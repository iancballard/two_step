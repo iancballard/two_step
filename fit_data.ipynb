{
 "cells": [
  {
   "cell_type": "code",
   "execution_count": 1,
   "metadata": {
    "collapsed": false
   },
   "outputs": [
    {
     "name": "stderr",
     "output_type": "stream",
     "text": [
      "//anaconda/lib/python2.7/site-packages/matplotlib/font_manager.py:273: UserWarning: Matplotlib is building the font cache using fc-list. This may take a moment.\n",
      "  warnings.warn('Matplotlib is building the font cache using fc-list. This may take a moment.')\n",
      "//anaconda/lib/python2.7/site-packages/IPython/parallel.py:13: ShimWarning: The `IPython.parallel` package has been deprecated. You should import from ipyparallel instead.\n",
      "  \"You should import from ipyparallel instead.\", ShimWarning)\n"
     ]
    }
   ],
   "source": [
    "### import os\n",
    "import numpy as np\n",
    "import glob\n",
    "import csv\n",
    "import matplotlib\n",
    "import glob\n",
    "import matplotlib.pyplot as plt\n",
    "import pandas as pd\n",
    "from pandas import DataFrame, Series\n",
    "import seaborn as sns\n",
    "import scipy\n",
    "import sys\n",
    "import pickle\n",
    "from scipy.optimize import minimize\n",
    "from IPython.parallel import Client\n",
    "%matplotlib inline"
   ]
  },
  {
   "cell_type": "code",
   "execution_count": 2,
   "metadata": {
    "collapsed": false
   },
   "outputs": [],
   "source": [
    "rc = Client()"
   ]
  },
  {
   "cell_type": "code",
   "execution_count": 3,
   "metadata": {
    "collapsed": false
   },
   "outputs": [
    {
     "name": "stdout",
     "output_type": "stream",
     "text": [
      "101\n"
     ]
    }
   ],
   "source": [
    "home_dir = '/Users/ianballard/Dropbox/two_step_analysis/' #where the data live\n",
    "path = home_dir + '/modeling/'\n",
    "\n",
    "ignore_files = ['bonuses.csv','A1DS5O8MSI3ZH0.csv','A2C39KTRMOM1XZ.csv','all_data.csv']\n",
    "data_files = glob.glob(home_dir + '*csv')\n",
    "data_files = [d for d in data_files if d.split('/')[-1] not in ignore_files]\n",
    "sub_ids = map(lambda f: f.split('/')[-1].split('.csv')[0],data_files)\n",
    "print(len(data_files))"
   ]
  },
  {
   "cell_type": "code",
   "execution_count": 4,
   "metadata": {
    "collapsed": false
   },
   "outputs": [
    {
     "name": "stdout",
     "output_type": "stream",
     "text": [
      "101\n"
     ]
    }
   ],
   "source": [
    "data_f = home_dir + 'all_data.csv'\n",
    "if True:\n",
    "    ntrials = 200 \n",
    "    key_map = {37:0,39:1} #keystrokes. Remember that the location of the stimuli changes trial to trial\n",
    "    state_map = {'3,2':'b','5,4':'c','2,3':'b','4,5':'c'} #\n",
    "    choice_map = {2:'0',3:'1',4:'0',5:'1'}\n",
    "    practice = ['practice_first_stage', 'practice_second_stage', 'practice_FB_stage'] #labels for practice trials\n",
    "    missed_responses = {}\n",
    "    key_presses = {}\n",
    "    all_data = []\n",
    "\n",
    "    for i,f in enumerate(data_files):\n",
    "        if True:\n",
    "            sub_id = sub_ids[i] #parse subid from filename\n",
    "            missed_responses[sub_id] = 0\n",
    "            key_presses[sub_id] = []\n",
    "\n",
    "            #dictionary to fill. Shift rew and ttype so [rew,ttype][n-1] corresponds to stay[n].\n",
    "            data = {'rt1':[],'rt2':[],'action1':[],'action2':[],'choice1':[],\n",
    "                    'choice2':[],'state':[],'rew':[],'ttype':[],'stay':[],\n",
    "                    'sub':[]} \n",
    "\n",
    "            #preprocess data\n",
    "            df = pd.read_csv(f) \n",
    "            df = df.drop(['view_history','stimulus','internal_chunk_id'],1) #drop useless columns\n",
    "\n",
    "            #drop practice trials\n",
    "            for t in practice: \n",
    "                df = df[df['trial_id'] != t]\n",
    "\n",
    "            #get choices, actions, rewards, RTs, etc from each trial\n",
    "            for i in range(ntrials): \n",
    "                trial_df = df[df['trial_num'] == i] #get data corresponding to that trial\n",
    "                if len(trial_df) == 3 and trial_df['key_press'].values[0] != -1 and trial_df['key_press'].values[1] != -1: \n",
    "                    state = state_map[str(trial_df['condition'].values[1])]\n",
    "                    data['rt1'].append(trial_df['rt'].values[0])\n",
    "                    data['rt2'].append(trial_df['rt'].values[1])\n",
    "                    data['rew'].append(float(trial_df['condition'].values[2])) \n",
    "                    data['state'].append(state)\n",
    "\n",
    "                    key_presses[sub_id].extend(trial_df['key_press'].values[0:2]) #to check for random responding\n",
    "                    action1 = key_map[trial_df['key_press'].values[0]]\n",
    "                    action2 = key_map[trial_df['key_press'].values[1]]\n",
    "                    choice1 = trial_df['condition'].values[0].split(',')[action1]\n",
    "                    choice2 = choice_map[int(trial_df['condition'].values[1].split(',')[action2])]\n",
    "\n",
    "                    #determine if it was a switch or stay trial\n",
    "                    if len(data['choice1'])>0 and (choice1 == data['choice1'][-1]):\n",
    "                        data['stay'].append('stay')\n",
    "                    else:\n",
    "                        data['stay'].append('switch')\n",
    "\n",
    "                    #add values to dictionary\n",
    "                    data['action1'].append(action1)\n",
    "                    data['action2'].append(action2)\n",
    "                    data['choice1'].append(choice1)\n",
    "                    data['choice2'].append(choice2)\n",
    "\n",
    "                    #determine if it was a common or rare transition\n",
    "                    if (choice1 == 0 and state == 'b') or (choice1 == 1 and state == 'c'):\n",
    "                        data['ttype'].append('common')\n",
    "                    else:\n",
    "                        data['ttype'].append('rare')\n",
    "                else:\n",
    "                    missed_responses[sub_id] +=1\n",
    "\n",
    "            data['sub'] = [sub_id] * len(data['rt1'])\n",
    "            data = pd.DataFrame(data) #make dataFrame\n",
    "            all_data.append(data)\n",
    "    print len(all_data)   \n",
    "    all_data = pd.concat(all_data)\n",
    "    all_data.to_csv(data_f,index = False)"
   ]
  },
  {
   "cell_type": "markdown",
   "metadata": {},
   "source": [
    "# Subject Exclusions"
   ]
  },
  {
   "cell_type": "code",
   "execution_count": 5,
   "metadata": {
    "collapsed": true
   },
   "outputs": [],
   "source": [
    "# #checks is a big list contains a small list\n",
    "# def contains(small, big):\n",
    "#     for i in xrange(len(big)-len(small)+1):\n",
    "#         for j in xrange(len(small)):\n",
    "#             if big[i+j] != small[j]:\n",
    "#                 break\n",
    "#         else:\n",
    "#             return i, i+len(small)\n",
    "#     return False"
   ]
  },
  {
   "cell_type": "code",
   "execution_count": 6,
   "metadata": {
    "collapsed": false
   },
   "outputs": [],
   "source": [
    "# bad_subs = set()"
   ]
  },
  {
   "cell_type": "code",
   "execution_count": 7,
   "metadata": {
    "collapsed": false
   },
   "outputs": [],
   "source": [
    "# #random responding\n",
    "# bad_length = 20\n",
    "# bad_strings = [[37.0]*bad_length,[39.0]*bad_length, [37.0,39.0] *(bad_length/2)]\n",
    "\n",
    "# for s in sub_ids:\n",
    "#     for bad_str in bad_strings:\n",
    "#         if contains(bad_str,key_presses[s]):\n",
    "#             bad_subs.add(s)"
   ]
  },
  {
   "cell_type": "code",
   "execution_count": 8,
   "metadata": {
    "collapsed": false
   },
   "outputs": [],
   "source": [
    "# #missed responses\n",
    "# for s in missed_responses.keys():\n",
    "#     if missed_responses[s] > 10:\n",
    "#         bad_subs.add(s)"
   ]
  },
  {
   "cell_type": "code",
   "execution_count": 9,
   "metadata": {
    "collapsed": false
   },
   "outputs": [],
   "source": [
    "# #drop bad subjects\n",
    "# sub_ids = [s for s in sub_ids if s not in bad_subs]\n",
    "# print len(sub_ids)"
   ]
  },
  {
   "cell_type": "code",
   "execution_count": 10,
   "metadata": {
    "collapsed": false
   },
   "outputs": [],
   "source": [
    "# remake into a list of subject data for parallel model fitting\n",
    "data_list = map(lambda x: all_data[all_data['sub'] == x], sub_ids)"
   ]
  },
  {
   "cell_type": "markdown",
   "metadata": {},
   "source": [
    "# Helper Functions"
   ]
  },
  {
   "cell_type": "code",
   "execution_count": 11,
   "metadata": {
    "collapsed": true
   },
   "outputs": [],
   "source": [
    "def calc_bic(ll,n_params,n_obs):\n",
    "    return 2*ll + n_params*np.log(n_obs)"
   ]
  },
  {
   "cell_type": "code",
   "execution_count": 12,
   "metadata": {
    "collapsed": true
   },
   "outputs": [],
   "source": [
    "def calc_aicc(ll,n_params,n_obs):\n",
    "    return 2*ll + 2*n_params + (2*n_params * (n_params+1))/(n_obs*1.0 - n_params -1)"
   ]
  },
  {
   "cell_type": "code",
   "execution_count": 13,
   "metadata": {
    "collapsed": true
   },
   "outputs": [],
   "source": [
    "def llrt_null(LL,num_choices,param_diff):\n",
    "    diff = 2*(LL - np.log(.5)*num_choices)\n",
    "    return scipy.stats.chi2.sf(diff, param_diff)"
   ]
  },
  {
   "cell_type": "code",
   "execution_count": 14,
   "metadata": {
    "collapsed": false
   },
   "outputs": [],
   "source": [
    "def llrt(LL,LL_null,nparams,nparams_null):\n",
    "    param_diff = nparams - nparams_null\n",
    "    diff = 2*(LL - LL_null)\n",
    "    return scipy.stats.chi2.sf(diff, param_diff)"
   ]
  },
  {
   "cell_type": "code",
   "execution_count": 15,
   "metadata": {
    "collapsed": true
   },
   "outputs": [],
   "source": [
    "#get probability of each action under the softmax\n",
    "def get_prob(Q,m): \n",
    "    probs = map(lambda q: np.exp(q*m), Q)\n",
    "    probs = probs / np.sum(probs)\n",
    "    return probs"
   ]
  },
  {
   "cell_type": "code",
   "execution_count": 16,
   "metadata": {
    "collapsed": false
   },
   "outputs": [],
   "source": [
    "#drop subjects who dont fit\n",
    "def drop_bad_subs(results_df,models,model_prefix,param_map):\n",
    "    bad_subs = set()\n",
    "    for m in models:\n",
    "        model_df = results_df[results_df['model'] == model_prefix + m]\n",
    "        LL = model_df['LL'].values\n",
    "        model_df['llrt'] = map(lambda x: llrt_null(-1*x,199*2,param_map[m]),LL)\n",
    "        bad_subs.update(model_df[model_df['llrt'] > .05]['sub'].values)\n",
    "    \n",
    "    for sub in bad_subs:\n",
    "        results_df = results_df[results_df['sub'] != sub]\n",
    "    \n",
    "    return results_df, bad_subs"
   ]
  },
  {
   "cell_type": "markdown",
   "metadata": {},
   "source": [
    "# Associative Model"
   ]
  },
  {
   "cell_type": "code",
   "execution_count": 17,
   "metadata": {
    "collapsed": true
   },
   "outputs": [],
   "source": [
    "#every time a transition occurs, increment the association between those two objects\n",
    "def update_associations(state,new_state,action,associations, actions):\n",
    "    for a in actions:\n",
    "        associations[state + action][new_state + a] = associations[state + action][new_state + a] + 1\n",
    "        associations[new_state + a][state + action] = associations[state + action][new_state + a] #make symmetric  \n",
    "    return associations"
   ]
  },
  {
   "cell_type": "code",
   "execution_count": 18,
   "metadata": {
    "collapsed": true
   },
   "outputs": [],
   "source": [
    "#normalize association matrix\n",
    "def norm_associations(associations):\n",
    "    norm_assoc = {}\n",
    "    for a in associations.keys():\n",
    "        total = sum(associations[a].itervalues()) * 1.0 #sum of associations\n",
    "        if total != 0:\n",
    "            norm_assoc[a] = {k: v/total for k, v in associations[a].items()}\n",
    "    return norm_assoc"
   ]
  },
  {
   "cell_type": "code",
   "execution_count": 19,
   "metadata": {
    "collapsed": true
   },
   "outputs": [],
   "source": [
    "def update_value(alpha,eligibility,rew,state,new_state,action,V,associations):\n",
    "    delta = rew - V[state+action]\n",
    "    V[state+action] = V[state+action] + alpha*delta\n",
    "    \n",
    "    norm_assoc = norm_associations(associations)\n",
    "    #percolate value one step back, weighted by the strength of association\n",
    "    for o in norm_assoc[state+action]:\n",
    "        delta = rew - V[o]\n",
    "        V[o] = V[o] + norm_assoc[state+action][o] * alpha * delta * eligibility\n",
    "    return V"
   ]
  },
  {
   "cell_type": "code",
   "execution_count": 20,
   "metadata": {
    "collapsed": true
   },
   "outputs": [],
   "source": [
    "#get the appropriate parameters for the model type\n",
    "def get_model_params_assoc(params,model):\n",
    "    alpha,persev,eligibility,m1,m2 = params\n",
    "        \n",
    "    if model == '1m':\n",
    "        m2 = m1\n",
    "    elif model == 'no_elig':\n",
    "        eligibility = 1\n",
    "    elif model == 'no_persev':\n",
    "        persev = 0\n",
    "        \n",
    "    return alpha,persev,eligibility,m1,m2"
   ]
  },
  {
   "cell_type": "code",
   "execution_count": 21,
   "metadata": {
    "collapsed": false
   },
   "outputs": [
    {
     "data": {
      "text/plain": [
       "331.22731100888376"
      ]
     },
     "execution_count": 21,
     "metadata": {},
     "output_type": "execute_result"
    }
   ],
   "source": [
    "def sub_LL(params,sub_data,model):\n",
    "    alpha,persev,eligibility,m1,m2 = get_model_params_assoc(params,model)\n",
    "\n",
    "    #initialize state space\n",
    "    objects = ['a0','a1','b0','b1','c0','c1']\n",
    "    states = ['a','b','c','terminal']\n",
    "    actions = ['0','1']\n",
    "\n",
    "    associations = {o1: {o2 : 0 for o2 in objects if o1!=o2} for o1 in objects}\n",
    "    V = {key: 0 for key in objects}\n",
    "    \n",
    "    #loop through trials\n",
    "    LL = 0\n",
    "    for i in range(len(sub_data)):\n",
    "        #extract some useful variables\n",
    "        trial_data = sub_data.ix[i]\n",
    "        choice1 = int(trial_data['choice1'])\n",
    "        choice2 = int(trial_data['choice2'])\n",
    "        state2 = trial_data['state']\n",
    "        rew = trial_data['rew']\n",
    "        \n",
    "        #first level prob\n",
    "        #add in perseveration parameter \n",
    "        values = [V['a0'],V['a1']]\n",
    "        if trial_data['stay'] == 'stay':\n",
    "            values[choice1] = values[choice1] + persev\n",
    "        else:\n",
    "            values[1 - choice1] = values[1 - choice1] + persev\n",
    "            \n",
    "        first_level_probs = get_prob(values,m1)\n",
    "        choice_prob = first_level_probs[choice1]\n",
    "        LL += np.log(choice_prob)\n",
    "\n",
    "        #second level prob\n",
    "        if state2 == 'b':\n",
    "            second_level_probs = get_prob([V['b0'],V['b1']],m2)\n",
    "        elif state2 == 'c':\n",
    "            second_level_probs = get_prob([V['c0'],V['c1']],m2)\n",
    "        \n",
    "        choice_prob = second_level_probs[choice2]\n",
    "        LL += np.log(choice_prob)\n",
    "        \n",
    "        #update associations and value\n",
    "        associations = update_associations('a',state2,str(choice1),associations,actions) #update associations\n",
    "        V = update_value(alpha,eligibility,rew,state2,'terminal',str(choice2),V,associations)\n",
    "    \n",
    "    LL = LL * -1 #minimize negative LL    \n",
    "    return LL\n",
    "sub_data = all_data[all_data['sub'] == sub_ids[0]]\n",
    "sub_LL([.1,.5,1,3,5],sub_data,'no_elig')"
   ]
  },
  {
   "cell_type": "code",
   "execution_count": 25,
   "metadata": {
    "collapsed": false
   },
   "outputs": [],
   "source": [
    "def run_sub(in_tuple):\n",
    "    sub_data, model = in_tuple\n",
    "    sub_id = sub_data['sub'][0]\n",
    "    sub_data = sub_data.reset_index(drop=True)\n",
    "    out_f = path + sub_id + '_assoc_' + model\n",
    "    \n",
    "    if not os.path.exists(out_f):\n",
    "        params = [.5,0,.5,1,1] #alpha,persev,eligibility,m1,m2 \n",
    "\n",
    "        bounds = ((0.01,1),(-20,20),(0,1),(0.01,20),(0.01,20))\n",
    "\n",
    "        res = minimize(sub_LL,params,args=(sub_data,model),options={'disp': False},bounds = bounds)\n",
    "        pickle.dump(res, open(out_f, \"wb\"))\n",
    "    return (str(sub_id),model)\n",
    "\n",
    "# run_sub(in_tuples[0])"
   ]
  },
  {
   "cell_type": "code",
   "execution_count": 26,
   "metadata": {
    "collapsed": false
   },
   "outputs": [
    {
     "name": "stdout",
     "output_type": "stream",
     "text": [
      "<module 'ipyparallel.serialize' from '//anaconda/lib/python2.7/site-packages/ipyparallel/serialize/__init__.pyc'>\n",
      "importing os on engine(s)\n",
      "importing numpy on engine(s)\n",
      "importing pandas on engine(s)\n",
      "importing DataFrame,Series from pandas on engine(s)\n",
      "importing scipy on engine(s)\n",
      "importing minimize from scipy.optimize on engine(s)\n",
      "importing pickle on engine(s)\n"
     ]
    }
   ],
   "source": [
    "#fit models in parallel\n",
    "dview = rc[:]\n",
    "dview.block=True\n",
    "dview.push(dict(update_associations=update_associations,\n",
    "                sub_LL=sub_LL,\n",
    "                get_prob=get_prob,\n",
    "               update_value = update_value,\n",
    "                get_model_params_assoc = get_model_params_assoc,\n",
    "               norm_associations = norm_associations,\n",
    "               path = path))\n",
    "dview.execute(\"import numpy as np\")\n",
    "dview.use_dill()  # Standard pickle fails with functions\n",
    "with dview.sync_imports():\n",
    "    import os\n",
    "    import numpy\n",
    "    import pandas as pd\n",
    "    from pandas import DataFrame, Series\n",
    "    import scipy\n",
    "    from scipy.optimize import minimize\n",
    "    import pickle\n",
    "    \n",
    "#fit lots of models\n",
    "output1 = []\n",
    "models = ['std','1m','no_elig','no_persev']\n",
    "for m in models:\n",
    "    in_tuples = [(x,m) for x in data_list]\n",
    "    output1.extend(dview.map_sync(run_sub,in_tuples))"
   ]
  },
  {
   "cell_type": "code",
   "execution_count": 39,
   "metadata": {
    "collapsed": false
   },
   "outputs": [],
   "source": [
    "models = ['std','1m','no_elig','no_persev']\n",
    "results_assoc = {'LL':[],'alpha':[],'m1':[],'m2':[],'persev':[],'eligibility':[],'sub':[],'model':[]}\n",
    "for m in models:\n",
    "    for o in sub_ids:\n",
    "        res = pickle.load(open(path + o + '_assoc_' + m, \"rb\" ))\n",
    "\n",
    "        if type(res) is not float:\n",
    "            results_assoc['sub'].append(o)\n",
    "            results_assoc['model'].append('assoc_' + m)\n",
    "            results_assoc['LL'].append(res.fun)\n",
    "            results_assoc['alpha'].append(res.x[0])\n",
    "            results_assoc['persev'].append(res.x[1])\n",
    "            results_assoc['eligibility'].append(res.x[2])\n",
    "            results_assoc['m1'].append(res.x[3])\n",
    "            results_assoc['m2'].append(res.x[4])\n",
    "            \n",
    "results_assoc = pd.DataFrame(results_assoc)"
   ]
  },
  {
   "cell_type": "markdown",
   "metadata": {},
   "source": [
    "# LLRT within assoc class"
   ]
  },
  {
   "cell_type": "code",
   "execution_count": 28,
   "metadata": {
    "collapsed": false
   },
   "outputs": [],
   "source": [
    "#drop subjects who dont fit\n",
    "param_map = {'std':5,'1m':4,'no_elig':4,'no_persev':4}\n",
    "results_assoc = drop_bad_subs(results_assoc,param_map.keys(),'_assoc',param_map)"
   ]
  },
  {
   "cell_type": "code",
   "execution_count": 29,
   "metadata": {
    "collapsed": false
   },
   "outputs": [
    {
     "ename": "TypeError",
     "evalue": "tuple indices must be integers, not str",
     "output_type": "error",
     "traceback": [
      "\u001b[0;31m---------------------------------------------------------------------------\u001b[0m",
      "\u001b[0;31mTypeError\u001b[0m                                 Traceback (most recent call last)",
      "\u001b[0;32m<ipython-input-29-d3dfb8f3c907>\u001b[0m in \u001b[0;36m<module>\u001b[0;34m()\u001b[0m\n\u001b[1;32m      1\u001b[0m \u001b[0mtotal_ll\u001b[0m \u001b[0;34m=\u001b[0m \u001b[0;34m{\u001b[0m\u001b[0;34m}\u001b[0m\u001b[0;34m\u001b[0m\u001b[0m\n\u001b[1;32m      2\u001b[0m \u001b[0;32mfor\u001b[0m \u001b[0mm\u001b[0m \u001b[0;32min\u001b[0m \u001b[0mmodels\u001b[0m\u001b[0;34m:\u001b[0m\u001b[0;34m\u001b[0m\u001b[0m\n\u001b[0;32m----> 3\u001b[0;31m     \u001b[0mmodel_df\u001b[0m \u001b[0;34m=\u001b[0m \u001b[0mresults_assoc\u001b[0m\u001b[0;34m[\u001b[0m\u001b[0mresults_assoc\u001b[0m\u001b[0;34m[\u001b[0m\u001b[0;34m'model'\u001b[0m\u001b[0;34m]\u001b[0m \u001b[0;34m==\u001b[0m \u001b[0;34m'assoc_'\u001b[0m \u001b[0;34m+\u001b[0m \u001b[0mm\u001b[0m\u001b[0;34m]\u001b[0m\u001b[0;34m\u001b[0m\u001b[0m\n\u001b[0m\u001b[1;32m      4\u001b[0m     \u001b[0mtotal_ll\u001b[0m\u001b[0;34m[\u001b[0m\u001b[0mm\u001b[0m\u001b[0;34m]\u001b[0m \u001b[0;34m=\u001b[0m \u001b[0msum\u001b[0m\u001b[0;34m(\u001b[0m\u001b[0mmodel_df\u001b[0m\u001b[0;34m[\u001b[0m\u001b[0;34m'LL'\u001b[0m\u001b[0;34m]\u001b[0m\u001b[0;34m.\u001b[0m\u001b[0mvalues\u001b[0m\u001b[0;34m)\u001b[0m\u001b[0;34m*\u001b[0m\u001b[0;34m-\u001b[0m\u001b[0;36m1\u001b[0m\u001b[0;34m\u001b[0m\u001b[0m\n\u001b[1;32m      5\u001b[0m     \u001b[0mnsubs\u001b[0m \u001b[0;34m=\u001b[0m \u001b[0mlen\u001b[0m\u001b[0;34m(\u001b[0m\u001b[0mmodel_df\u001b[0m\u001b[0;34m)\u001b[0m\u001b[0;34m\u001b[0m\u001b[0m\n",
      "\u001b[0;31mTypeError\u001b[0m: tuple indices must be integers, not str"
     ]
    }
   ],
   "source": [
    "total_ll = {}\n",
    "for m in models:\n",
    "    model_df = results_assoc[results_assoc['model'] == 'assoc_' + m]\n",
    "    total_ll[m] = sum(model_df['LL'].values)*-1\n",
    "    nsubs = len(model_df)\n",
    "print nsubs\n",
    "print total_ll"
   ]
  },
  {
   "cell_type": "code",
   "execution_count": 30,
   "metadata": {
    "collapsed": false
   },
   "outputs": [
    {
     "ename": "KeyError",
     "evalue": "'std'",
     "output_type": "error",
     "traceback": [
      "\u001b[0;31m---------------------------------------------------------------------------\u001b[0m",
      "\u001b[0;31mKeyError\u001b[0m                                  Traceback (most recent call last)",
      "\u001b[0;32m<ipython-input-30-89ba536604e8>\u001b[0m in \u001b[0;36m<module>\u001b[0;34m()\u001b[0m\n\u001b[0;32m----> 1\u001b[0;31m \u001b[0mllrt\u001b[0m\u001b[0;34m(\u001b[0m\u001b[0mtotal_ll\u001b[0m\u001b[0;34m[\u001b[0m\u001b[0;34m'std'\u001b[0m\u001b[0;34m]\u001b[0m\u001b[0;34m,\u001b[0m\u001b[0mtotal_ll\u001b[0m\u001b[0;34m[\u001b[0m\u001b[0;34m'1m'\u001b[0m\u001b[0;34m]\u001b[0m\u001b[0;34m,\u001b[0m\u001b[0;36m5\u001b[0m\u001b[0;34m*\u001b[0m\u001b[0mnsubs\u001b[0m\u001b[0;34m,\u001b[0m\u001b[0;36m4\u001b[0m\u001b[0;34m*\u001b[0m\u001b[0mnsubs\u001b[0m\u001b[0;34m)\u001b[0m\u001b[0;34m\u001b[0m\u001b[0m\n\u001b[0m",
      "\u001b[0;31mKeyError\u001b[0m: 'std'"
     ]
    }
   ],
   "source": [
    "llrt(total_ll['std'],total_ll['1m'],5*nsubs,4*nsubs)"
   ]
  },
  {
   "cell_type": "markdown",
   "metadata": {},
   "source": [
    "# Model-Based / Model-Free model"
   ]
  },
  {
   "cell_type": "code",
   "execution_count": 31,
   "metadata": {
    "collapsed": true
   },
   "outputs": [],
   "source": [
    "def update_value_mf(alpha,rew,state,new_state,action1,action2,Q):\n",
    "    delta = rew + Q[new_state][action2] - Q[state][action1]\n",
    "    Q[state][action1] = Q[state][action1] + alpha*delta\n",
    "    return Q,delta"
   ]
  },
  {
   "cell_type": "code",
   "execution_count": 32,
   "metadata": {
    "collapsed": true
   },
   "outputs": [],
   "source": [
    "def eligibility_trace_update(alpha,eligibility,state,action,Q,delta):\n",
    "    Q[state][action] = Q[state][action] + eligibility*alpha*delta\n",
    "    return Q"
   ]
  },
  {
   "cell_type": "code",
   "execution_count": 33,
   "metadata": {
    "collapsed": false
   },
   "outputs": [],
   "source": [
    "#heuristic for getting transition matrix\n",
    "def get_transition_matrix(transition_count):\n",
    "    count1 = transition_count[0]['b'] + transition_count[1]['c']\n",
    "    count2 = transition_count[1]['b'] + transition_count[0]['c']\n",
    "\n",
    "    if count1 > count2:\n",
    "        transitions = {0:{'b':.7,'c':.3},1:{'b':.3,'c':.7}}\n",
    "    else:\n",
    "        transitions = {0:{'b':.3,'c':.7},1:{'b':.7,'c':.3}}\n",
    "\n",
    "    return transitions"
   ]
  },
  {
   "cell_type": "code",
   "execution_count": 34,
   "metadata": {
    "collapsed": true
   },
   "outputs": [],
   "source": [
    "#get the appropriate parameters for the model type\n",
    "def get_model_params_mbmf(params,model):\n",
    "    alpha1,alpha2,eligibility,persev,w,m1,m2 = params #full model\n",
    "        \n",
    "    if model == '1alpha':\n",
    "        alpha2 = alpha1\n",
    "    elif model == '1m':\n",
    "        m2 = m1\n",
    "    elif model == '1alpha_1m':\n",
    "        alpha2 = alpha1\n",
    "        m2 = m1\n",
    "    elif model == 'no_elig':\n",
    "        eligibility = 0\n",
    "    elif model == 'no_persev':\n",
    "        persev = 0\n",
    "        \n",
    "    return alpha1,alpha2,eligibility,persev,w,m1,m2"
   ]
  },
  {
   "cell_type": "code",
   "execution_count": 35,
   "metadata": {
    "collapsed": false
   },
   "outputs": [
    {
     "data": {
      "text/plain": [
       "7058.8008675620349"
      ]
     },
     "execution_count": 35,
     "metadata": {},
     "output_type": "execute_result"
    }
   ],
   "source": [
    "def sub_LL_MB_MF(params,sub_data,model):\n",
    "\n",
    "    alpha1,alpha2,eligibility,persev,w,m1,m2 = get_model_params_mbmf(params,model)\n",
    "    \n",
    "    #initialize state space\n",
    "    states = ['a','b','c','terminal']\n",
    "    actions = [0,1]\n",
    "    transition_count = {0:{'b':0,'c':0},1:{'b':0,'c':0}}\n",
    "    Q_mf = {key: [0,0] for key in states}\n",
    "    \n",
    "    #loop through trials\n",
    "    nsteps = 0\n",
    "    LL = 0\n",
    "    for i in range(len(sub_data)):\n",
    "        \n",
    "        #extract some useful variables\n",
    "        trial_data = sub_data.ix[i]\n",
    "        choice1 = int(trial_data['choice1'])\n",
    "        choice2 = int(trial_data['choice2'])\n",
    "        state2 = trial_data['state']\n",
    "        rew = trial_data['rew']\n",
    "\n",
    "        #compute Q_mb first!\n",
    "        Q_mb = []\n",
    "        transition_matrix = get_transition_matrix(transition_count)\n",
    "        for a in actions:\n",
    "            mb = max(Q_mf['b']) * transition_matrix[a]['b'] + max(Q_mf['c']) * transition_matrix[a]['c']\n",
    "            Q_mb.append(mb)\n",
    "\n",
    "        #compute choice likelihoods\n",
    "        if i > 0: #don't bother with first trial. Complicates perseveration analysis\n",
    "            #compute choice probabilities for the first level\n",
    "            mixed_Q = (1-w)*np.array(Q_mf['a']) + w*np.array(Q_mb)\n",
    "\n",
    "            #add in perseveration parameter \n",
    "            if trial_data['stay'] == 'stay':\n",
    "                mixed_Q[choice1] = mixed_Q[choice1] + persev\n",
    "            else:\n",
    "                mixed_Q[1 - choice1] = mixed_Q[1 - choice1] + persev\n",
    "\n",
    "            choice_prob = get_prob(mixed_Q,m1)[choice1]\n",
    "            LL += np.log(choice_prob)\n",
    "\n",
    "            #compute choice probabilities for the second level\n",
    "            choice_prob = get_prob(Q_mf[state2],m2)[choice2]\n",
    "            LL += np.log(choice_prob)\n",
    "\n",
    "        #update Q_mf\n",
    "        Q_mf, delta1 = update_value_mf(alpha1,0.0,'a',state2,choice1,choice2,Q_mf) #first stage\n",
    "        Q_mf, delta2 = update_value_mf(alpha2,rew,state2,'terminal',choice2,0,Q_mf) #second stage\n",
    "        Q_mf = eligibility_trace_update(alpha1,eligibility,'a',choice1,Q_mf,delta2) #eligibility trace\n",
    "\n",
    "        #keep track of transitions\n",
    "        transition_count[choice1][state2] += 1\n",
    "\n",
    "    LL = LL*-1\n",
    "    return LL\n",
    "\n",
    "sub_data = all_data[all_data['sub'] == sub_ids[3]]\n",
    "sub_data = sub_data.reset_index(drop=True)\n",
    "# sub_LL_MB_MF([.7,.9,.5,.9,3,3],sub_data)\n",
    "sub_LL_MB_MF([0.0 ,.2,1.0 ,20.0, 0.0, 9.10815663499 ,3.94114954613],sub_data,'std')\n"
   ]
  },
  {
   "cell_type": "code",
   "execution_count": 36,
   "metadata": {
    "collapsed": false
   },
   "outputs": [],
   "source": [
    "def run_sub_mbmf(in_tuple):\n",
    "    sub_data, model = in_tuple\n",
    "    sub_data = sub_data.reset_index(drop=True)\n",
    "    sub_id = sub_data['sub'][0]\n",
    "    out_f = path + sub_id + '_mbmf_' + model\n",
    "    \n",
    "    if not os.path.exists(out_f):\n",
    "        params = [.5,.5,.5,0,.5,1,1] #alpha1,alpha2,eligibility,persev,w,m1,m2\n",
    "        bounds = ((0.01,1),(.01,1),(0,1),(-20,20),(0,1),(0.01,20),(0.01,20))\n",
    "        res = minimize(sub_LL_MB_MF,params,args=(sub_data,model),options={'disp': True},bounds = bounds)\n",
    "        pickle.dump(res, open(out_f, \"wb\" ))\n",
    "    \n",
    "    return (str(sub_id),model)\n",
    "# run_sub_mbmf(in_tuples[10])"
   ]
  },
  {
   "cell_type": "code",
   "execution_count": 37,
   "metadata": {
    "collapsed": false
   },
   "outputs": [
    {
     "name": "stdout",
     "output_type": "stream",
     "text": [
      "<module 'ipyparallel.serialize' from '//anaconda/lib/python2.7/site-packages/ipyparallel/serialize/__init__.pyc'>\n",
      "importing numpy on engine(s)\n",
      "importing pandas on engine(s)\n",
      "importing DataFrame,Series from pandas on engine(s)\n",
      "importing scipy on engine(s)\n",
      "importing minimize from scipy.optimize on engine(s)\n",
      "importing pickle on engine(s)\n"
     ]
    }
   ],
   "source": [
    "#fit models in paralell\n",
    "dview = rc[:]\n",
    "dview.block=True\n",
    "dview.push(dict(run_sub_mbmf = run_sub_mbmf,\n",
    "                update_value_mf=update_value_mf,\n",
    "                sub_LL_MB_MF=sub_LL_MB_MF,\n",
    "                get_prob=get_prob,\n",
    "                get_model_params_mbmf = get_model_params_mbmf,\n",
    "               eligibility_trace_update = eligibility_trace_update,\n",
    "               get_transition_matrix = get_transition_matrix,\n",
    "               path = path))\n",
    "dview.execute(\"import numpy as np\")\n",
    "dview.use_dill()  # Standard pickle fails with functions\n",
    "with dview.sync_imports():\n",
    "    import numpy\n",
    "    import pandas as pd\n",
    "    from pandas import DataFrame, Series\n",
    "    import scipy\n",
    "    from scipy.optimize import minimize\n",
    "    import pickle\n",
    "\n",
    "#fit lots of models\n",
    "output2 = []\n",
    "models = ['std','1alpha','1m','1alpha_1m','no_elig','no_persev']\n",
    "for m in models:\n",
    "    in_tuples = [(x,m) for x in data_list]\n",
    "    output2.extend(dview.map_sync(run_sub_mbmf,in_tuples))"
   ]
  },
  {
   "cell_type": "code",
   "execution_count": 38,
   "metadata": {
    "collapsed": false
   },
   "outputs": [],
   "source": [
    "#parse pickled results from parallel execution\n",
    "results_mbmf = {'LL':[],'alpha1':[],'alpha2':[],'eligibility':[],'persev':[],\n",
    "                'w':[],'m1':[],'m2':[],'sub':[],'model':[]}\n",
    "models = ['std','1alpha','1m','1alpha_1m','no_elig','no_persev']\n",
    "for m in models:\n",
    "    for o in sub_ids:\n",
    "        res = pickle.load(open(path + o + '_mbmf_' + m, \"rb\" ))\n",
    "        results_mbmf['model'].append('mbmf_' + m)\n",
    "        results_mbmf['sub'].append(o)\n",
    "        results_mbmf['LL'].append(res.fun)\n",
    "        results_mbmf['alpha1'].append(res.x[0])\n",
    "        results_mbmf['alpha2'].append(res.x[1])\n",
    "        results_mbmf['eligibility'].append(res.x[2])\n",
    "        results_mbmf['persev'].append(res.x[3])\n",
    "        results_mbmf['w'].append(res.x[4])\n",
    "        results_mbmf['m1'].append(res.x[5])\n",
    "        results_mbmf['m2'].append(res.x[6])\n",
    "results_mbmf = pd.DataFrame(results_mbmf)\n"
   ]
  },
  {
   "cell_type": "markdown",
   "metadata": {},
   "source": [
    "# Do LLRTs within MB/MF class"
   ]
  },
  {
   "cell_type": "code",
   "execution_count": 70,
   "metadata": {
    "collapsed": false
   },
   "outputs": [
    {
     "name": "stdout",
     "output_type": "stream",
     "text": [
      "21\n"
     ]
    },
    {
     "name": "stderr",
     "output_type": "stream",
     "text": [
      "/anaconda/lib/python2.7/site-packages/ipykernel/__main__.py:7: SettingWithCopyWarning: \n",
      "A value is trying to be set on a copy of a slice from a DataFrame.\n",
      "Try using .loc[row_indexer,col_indexer] = value instead\n",
      "\n",
      "See the caveats in the documentation: http://pandas.pydata.org/pandas-docs/stable/indexing.html#indexing-view-versus-copy\n"
     ]
    }
   ],
   "source": [
    "#drop subjects who dont fit\n",
    "param_map = {'std':7,'1alpha':6,'1m':6,'1alpha_1m':5,'no_elig':6,'no_persev':6}\n",
    "results_mbmf, bad_subs = drop_bad_subs(results_mbmf,param_map.keys(),'mbmf_',param_map)\n",
    "print len(bad_subs)"
   ]
  },
  {
   "cell_type": "code",
   "execution_count": 41,
   "metadata": {
    "collapsed": false
   },
   "outputs": [
    {
     "name": "stdout",
     "output_type": "stream",
     "text": [
      "{'std': -11619.928040443709, 'no_persev': -11893.866567211835, 'no_elig': -11815.928065952574, '1alpha': -11637.961788393655, '1alpha_1m': -11755.518285866778, '1m': -11723.923685294323}\n"
     ]
    }
   ],
   "source": [
    "total_ll = {}\n",
    "for m in models:\n",
    "    model_df = results_mbmf[results_mbmf['model'] == 'mbmf_' + m]\n",
    "    total_ll[m] = sum(model_df['LL'].values)*-1\n",
    "    nsubs = len(model_df)\n",
    "print total_ll"
   ]
  },
  {
   "cell_type": "code",
   "execution_count": 47,
   "metadata": {
    "collapsed": false
   },
   "outputs": [
    {
     "data": {
      "text/plain": [
       "2.325191688956401e-52"
      ]
     },
     "execution_count": 47,
     "metadata": {},
     "output_type": "execute_result"
    }
   ],
   "source": [
    "llrt(total_ll['std'],total_ll['no_elig'],7*nsubs,6*nsubs)"
   ]
  },
  {
   "cell_type": "markdown",
   "metadata": {},
   "source": [
    "# Perform Bayesian Model Comparison"
   ]
  },
  {
   "cell_type": "code",
   "execution_count": 41,
   "metadata": {
    "collapsed": false
   },
   "outputs": [
    {
     "name": "stderr",
     "output_type": "stream",
     "text": [
      "/anaconda/lib/python2.7/site-packages/ipykernel/__main__.py:6: FutureWarning: sort(columns=....) is deprecated, use sort_values(by=.....)\n"
     ]
    }
   ],
   "source": [
    "best1 = results_assoc[results_assoc['model'] == 'assoc_std'].copy()\n",
    "best1['model'] = 'assoc'\n",
    "best2 = results_mbmf[results_mbmf['model'] == 'mbmf_1alpha'].copy()\n",
    "best2['model'] = 'mbmf'\n",
    "results = pd.concat([best1,best2])\n",
    "results = results.sort(['model','sub'])\n",
    "\n",
    "# results = results.sort(['sub','model'])\n",
    "# print results[['LL','model']]"
   ]
  },
  {
   "cell_type": "code",
   "execution_count": 42,
   "metadata": {
    "collapsed": false
   },
   "outputs": [
    {
     "name": "stderr",
     "output_type": "stream",
     "text": [
      "/anaconda/lib/python2.7/site-packages/ipykernel/__main__.py:7: SettingWithCopyWarning: \n",
      "A value is trying to be set on a copy of a slice from a DataFrame.\n",
      "Try using .loc[row_indexer,col_indexer] = value instead\n",
      "\n",
      "See the caveats in the documentation: http://pandas.pydata.org/pandas-docs/stable/indexing.html#indexing-view-versus-copy\n"
     ]
    }
   ],
   "source": [
    "#drop subjects who dont fit\n",
    "param_map = {'mbmf':6,'assoc':5}\n",
    "results, bad_subs = drop_bad_subs(results,param_map.keys(),'',param_map)"
   ]
  },
  {
   "cell_type": "code",
   "execution_count": 43,
   "metadata": {
    "collapsed": false
   },
   "outputs": [
    {
     "name": "stdout",
     "output_type": "stream",
     "text": [
      "78\n",
      "78\n"
     ]
    }
   ],
   "source": [
    "#write to text file\n",
    "path = '/Users/ianballard/Dropbox/two_step_analysis/modeling2/';\n",
    "for m in set(results['model'].values):\n",
    "\n",
    "    n_params = param_map[m]\n",
    "\n",
    "    total_ll = results[results['model'] == m]['LL'].values\n",
    "    aic = map(lambda x: calc_aicc(x,n_params,120),total_ll)\n",
    "    bic = map(lambda x: calc_bic(x,n_params,120),total_ll)\n",
    "    \n",
    "    print len(aic)\n",
    "\n",
    "    np.savetxt(path + m + '_aic',aic)\n",
    "    np.savetxt(path + m + '_bic',bic)"
   ]
  },
  {
   "cell_type": "code",
   "execution_count": 44,
   "metadata": {
    "collapsed": false
   },
   "outputs": [
    {
     "name": "stdout",
     "output_type": "stream",
     "text": [
      "Starting MATLAB on ZMQ socket ipc:///tmp/pymatbridge-9eca42f6-8139-4e85-8fd5-ac97a6caa122\n",
      "Send 'exit' command to kill the server\n",
      ".....................MATLAB started and connected!\n"
     ]
    },
    {
     "name": "stderr",
     "output_type": "stream",
     "text": [
      "//anaconda/lib/python2.7/site-packages/IPython/nbformat.py:13: ShimWarning: The `IPython.nbformat` package has been deprecated. You should import from nbformat instead.\n",
      "  \"You should import from nbformat instead.\", ShimWarning)\n"
     ]
    }
   ],
   "source": [
    "%load_ext pymatbridge"
   ]
  },
  {
   "cell_type": "code",
   "execution_count": 45,
   "metadata": {
    "collapsed": false
   },
   "outputs": [],
   "source": [
    "%%matlab -o pxp_b\n",
    "path = '/Users/ianballard/Dropbox/two_step_analysis/modeling2/';\n",
    "ic = '_bic';\n",
    "mbmf = textread([path,'mbmf',ic]);\n",
    "ass = textread([path,'assoc',ic]);\n",
    "lc = [mbmf,ass];\n",
    "lc = lc*-1;\n",
    "[alpha,exp_r,xp,pxp_b,bor] = spm_BMS(lc);"
   ]
  },
  {
   "cell_type": "code",
   "execution_count": 46,
   "metadata": {
    "collapsed": false
   },
   "outputs": [],
   "source": [
    "%%matlab -o pxp_a\n",
    "path = '/Users/ianballard/Dropbox/two_step_analysis/modeling2/';\n",
    "ic = '_aic';\n",
    "mbmf = textread([path,'mbmf',ic]);\n",
    "ass = textread([path,'assoc',ic]);\n",
    "lc = [mbmf,ass];\n",
    "lc = lc*-1;\n",
    "[alpha,exp_r,xp,pxp_a,bor] = spm_BMS(lc);"
   ]
  },
  {
   "cell_type": "code",
   "execution_count": 47,
   "metadata": {
    "collapsed": false
   },
   "outputs": [
    {
     "data": {
      "image/png": "[encoded data removed]",
      "text/plain": [
       "<matplotlib.figure.Figure at 0x117ce6450>"
      ]
     },
     "metadata": {},
     "output_type": "display_data"
    }
   ],
   "source": [
    "model = ['Model-Based/Free','associative']\n",
    "\n",
    "xp_df = pd.DataFrame({'model':model*2,\n",
    "                      'Protected Exceedance Probability':list(pxp_b[0]) + list(pxp_a[0]),\n",
    "                     'metric':['bic']*len(model) + ['aic']*len(model) })\n",
    "sns.barplot(x = 'model', y = 'Protected Exceedance Probability',hue = 'metric',data = xp_df)\n",
    "plt.title('RFX Bayesian Model Comparison')\n",
    "plt.ylabel('Protected Exceedance Probability')\n",
    "plt.xlabel('')\n",
    "plt.savefig(home_dir + '/figures/model_fit.png',dpi=600)"
   ]
  },
  {
   "cell_type": "code",
   "execution_count": 90,
   "metadata": {
    "collapsed": false
   },
   "outputs": [
    {
     "name": "stderr",
     "output_type": "stream",
     "text": [
      "/anaconda/lib/python2.7/site-packages/ipykernel/__main__.py:1: FutureWarning: sort(columns=....) is deprecated, use sort_values(by=.....)\n",
      "  if __name__ == '__main__':\n"
     ]
    },
    {
     "data": {
      "text/html": [
       "<div>\n",
       "<table border=\"1\" class=\"dataframe\">\n",
       "  <thead>\n",
       "    <tr style=\"text-align: right;\">\n",
       "      <th></th>\n",
       "      <th>LL</th>\n",
       "      <th>alpha</th>\n",
       "      <th>alpha1</th>\n",
       "      <th>alpha2</th>\n",
       "      <th>eligibility</th>\n",
       "      <th>m1</th>\n",
       "      <th>m2</th>\n",
       "      <th>model</th>\n",
       "      <th>persev</th>\n",
       "      <th>sub</th>\n",
       "      <th>w</th>\n",
       "    </tr>\n",
       "  </thead>\n",
       "  <tbody>\n",
       "    <tr>\n",
       "      <th>0</th>\n",
       "      <td>269.064463</td>\n",
       "      <td>0.031964</td>\n",
       "      <td>NaN</td>\n",
       "      <td>NaN</td>\n",
       "      <td>0.188939</td>\n",
       "      <td>0.010000</td>\n",
       "      <td>6.062521</td>\n",
       "      <td>assoc</td>\n",
       "      <td>-3.104816e+00</td>\n",
       "      <td>A002160837SWJFPIAI7L7</td>\n",
       "      <td>NaN</td>\n",
       "    </tr>\n",
       "    <tr>\n",
       "      <th>76</th>\n",
       "      <td>267.690743</td>\n",
       "      <td>NaN</td>\n",
       "      <td>0.031991</td>\n",
       "      <td>0.5</td>\n",
       "      <td>1.000000</td>\n",
       "      <td>0.010000</td>\n",
       "      <td>6.057720</td>\n",
       "      <td>mbmf</td>\n",
       "      <td>-2.040388e+00</td>\n",
       "      <td>A002160837SWJFPIAI7L7</td>\n",
       "      <td>1.000000</td>\n",
       "    </tr>\n",
       "    <tr>\n",
       "      <th>1</th>\n",
       "      <td>251.531246</td>\n",
       "      <td>0.605971</td>\n",
       "      <td>NaN</td>\n",
       "      <td>NaN</td>\n",
       "      <td>1.000000</td>\n",
       "      <td>0.855349</td>\n",
       "      <td>1.598755</td>\n",
       "      <td>assoc</td>\n",
       "      <td>5.019329e-01</td>\n",
       "      <td>A12DBV9FNAOFEM</td>\n",
       "      <td>NaN</td>\n",
       "    </tr>\n",
       "    <tr>\n",
       "      <th>77</th>\n",
       "      <td>247.402409</td>\n",
       "      <td>NaN</td>\n",
       "      <td>0.567820</td>\n",
       "      <td>0.5</td>\n",
       "      <td>0.101579</td>\n",
       "      <td>2.615283</td>\n",
       "      <td>1.659696</td>\n",
       "      <td>mbmf</td>\n",
       "      <td>1.479927e-01</td>\n",
       "      <td>A12DBV9FNAOFEM</td>\n",
       "      <td>0.680002</td>\n",
       "    </tr>\n",
       "    <tr>\n",
       "      <th>2</th>\n",
       "      <td>212.804578</td>\n",
       "      <td>0.013201</td>\n",
       "      <td>NaN</td>\n",
       "      <td>NaN</td>\n",
       "      <td>0.320412</td>\n",
       "      <td>5.392806</td>\n",
       "      <td>5.156650</td>\n",
       "      <td>assoc</td>\n",
       "      <td>2.289448e-01</td>\n",
       "      <td>A138BU1VWM2RKN</td>\n",
       "      <td>NaN</td>\n",
       "    </tr>\n",
       "    <tr>\n",
       "      <th>78</th>\n",
       "      <td>210.278897</td>\n",
       "      <td>NaN</td>\n",
       "      <td>0.026686</td>\n",
       "      <td>0.5</td>\n",
       "      <td>1.000000</td>\n",
       "      <td>7.299318</td>\n",
       "      <td>3.505943</td>\n",
       "      <td>mbmf</td>\n",
       "      <td>1.682433e-01</td>\n",
       "      <td>A138BU1VWM2RKN</td>\n",
       "      <td>0.773550</td>\n",
       "    </tr>\n",
       "    <tr>\n",
       "      <th>4</th>\n",
       "      <td>111.268862</td>\n",
       "      <td>0.421723</td>\n",
       "      <td>NaN</td>\n",
       "      <td>NaN</td>\n",
       "      <td>1.000000</td>\n",
       "      <td>3.097780</td>\n",
       "      <td>8.198218</td>\n",
       "      <td>assoc</td>\n",
       "      <td>7.520646e-01</td>\n",
       "      <td>A13VIJ7G997ZCY</td>\n",
       "      <td>NaN</td>\n",
       "    </tr>\n",
       "    <tr>\n",
       "      <th>80</th>\n",
       "      <td>96.777845</td>\n",
       "      <td>NaN</td>\n",
       "      <td>0.421627</td>\n",
       "      <td>0.5</td>\n",
       "      <td>0.817230</td>\n",
       "      <td>11.600792</td>\n",
       "      <td>8.198479</td>\n",
       "      <td>mbmf</td>\n",
       "      <td>1.340143e-01</td>\n",
       "      <td>A13VIJ7G997ZCY</td>\n",
       "      <td>0.468593</td>\n",
       "    </tr>\n",
       "    <tr>\n",
       "      <th>5</th>\n",
       "      <td>265.221603</td>\n",
       "      <td>0.676434</td>\n",
       "      <td>NaN</td>\n",
       "      <td>NaN</td>\n",
       "      <td>0.022864</td>\n",
       "      <td>0.047422</td>\n",
       "      <td>0.718845</td>\n",
       "      <td>assoc</td>\n",
       "      <td>9.810357e+00</td>\n",
       "      <td>A160HFSRDNT91E</td>\n",
       "      <td>NaN</td>\n",
       "    </tr>\n",
       "    <tr>\n",
       "      <th>81</th>\n",
       "      <td>262.366796</td>\n",
       "      <td>NaN</td>\n",
       "      <td>0.654756</td>\n",
       "      <td>0.5</td>\n",
       "      <td>0.545310</td>\n",
       "      <td>1.256103</td>\n",
       "      <td>0.735073</td>\n",
       "      <td>mbmf</td>\n",
       "      <td>3.551437e-01</td>\n",
       "      <td>A160HFSRDNT91E</td>\n",
       "      <td>1.000000</td>\n",
       "    </tr>\n",
       "    <tr>\n",
       "      <th>7</th>\n",
       "      <td>196.255286</td>\n",
       "      <td>0.263398</td>\n",
       "      <td>NaN</td>\n",
       "      <td>NaN</td>\n",
       "      <td>1.000000</td>\n",
       "      <td>5.118195</td>\n",
       "      <td>3.960438</td>\n",
       "      <td>assoc</td>\n",
       "      <td>2.404955e-01</td>\n",
       "      <td>A1C1V5NOGHGR1O</td>\n",
       "      <td>NaN</td>\n",
       "    </tr>\n",
       "    <tr>\n",
       "      <th>83</th>\n",
       "      <td>184.714907</td>\n",
       "      <td>NaN</td>\n",
       "      <td>0.313129</td>\n",
       "      <td>0.5</td>\n",
       "      <td>1.000000</td>\n",
       "      <td>7.984217</td>\n",
       "      <td>3.673120</td>\n",
       "      <td>mbmf</td>\n",
       "      <td>1.330350e-01</td>\n",
       "      <td>A1C1V5NOGHGR1O</td>\n",
       "      <td>0.832795</td>\n",
       "    </tr>\n",
       "    <tr>\n",
       "      <th>9</th>\n",
       "      <td>249.154948</td>\n",
       "      <td>0.752405</td>\n",
       "      <td>NaN</td>\n",
       "      <td>NaN</td>\n",
       "      <td>0.611671</td>\n",
       "      <td>0.010000</td>\n",
       "      <td>2.007121</td>\n",
       "      <td>assoc</td>\n",
       "      <td>6.133094e+00</td>\n",
       "      <td>A1CSDIX05PK9V</td>\n",
       "      <td>NaN</td>\n",
       "    </tr>\n",
       "    <tr>\n",
       "      <th>85</th>\n",
       "      <td>246.248169</td>\n",
       "      <td>NaN</td>\n",
       "      <td>0.780804</td>\n",
       "      <td>0.5</td>\n",
       "      <td>1.000000</td>\n",
       "      <td>0.459452</td>\n",
       "      <td>1.960308</td>\n",
       "      <td>mbmf</td>\n",
       "      <td>7.711461e-02</td>\n",
       "      <td>A1CSDIX05PK9V</td>\n",
       "      <td>0.000000</td>\n",
       "    </tr>\n",
       "    <tr>\n",
       "      <th>10</th>\n",
       "      <td>247.729392</td>\n",
       "      <td>1.000000</td>\n",
       "      <td>NaN</td>\n",
       "      <td>NaN</td>\n",
       "      <td>1.000000</td>\n",
       "      <td>1.658849</td>\n",
       "      <td>0.396429</td>\n",
       "      <td>assoc</td>\n",
       "      <td>5.560460e-01</td>\n",
       "      <td>A1DABMXVWWL0TR</td>\n",
       "      <td>NaN</td>\n",
       "    </tr>\n",
       "    <tr>\n",
       "      <th>86</th>\n",
       "      <td>238.600397</td>\n",
       "      <td>NaN</td>\n",
       "      <td>0.045788</td>\n",
       "      <td>0.5</td>\n",
       "      <td>0.511389</td>\n",
       "      <td>5.266625</td>\n",
       "      <td>2.793158</td>\n",
       "      <td>mbmf</td>\n",
       "      <td>1.416948e-01</td>\n",
       "      <td>A1DABMXVWWL0TR</td>\n",
       "      <td>0.000000</td>\n",
       "    </tr>\n",
       "    <tr>\n",
       "      <th>11</th>\n",
       "      <td>266.169026</td>\n",
       "      <td>0.010000</td>\n",
       "      <td>NaN</td>\n",
       "      <td>NaN</td>\n",
       "      <td>0.000000</td>\n",
       "      <td>0.300293</td>\n",
       "      <td>0.010000</td>\n",
       "      <td>assoc</td>\n",
       "      <td>4.127652e-07</td>\n",
       "      <td>A1FL20WGFRJS1T</td>\n",
       "      <td>NaN</td>\n",
       "    </tr>\n",
       "    <tr>\n",
       "      <th>87</th>\n",
       "      <td>264.781284</td>\n",
       "      <td>NaN</td>\n",
       "      <td>0.010000</td>\n",
       "      <td>0.5</td>\n",
       "      <td>0.000000</td>\n",
       "      <td>0.010000</td>\n",
       "      <td>0.010000</td>\n",
       "      <td>mbmf</td>\n",
       "      <td>1.076528e+00</td>\n",
       "      <td>A1FL20WGFRJS1T</td>\n",
       "      <td>0.894739</td>\n",
       "    </tr>\n",
       "    <tr>\n",
       "      <th>12</th>\n",
       "      <td>204.062030</td>\n",
       "      <td>0.795459</td>\n",
       "      <td>NaN</td>\n",
       "      <td>NaN</td>\n",
       "      <td>0.654059</td>\n",
       "      <td>1.989511</td>\n",
       "      <td>2.351008</td>\n",
       "      <td>assoc</td>\n",
       "      <td>7.487026e-01</td>\n",
       "      <td>A1GQTXZPHAMLEH</td>\n",
       "      <td>NaN</td>\n",
       "    </tr>\n",
       "    <tr>\n",
       "      <th>88</th>\n",
       "      <td>197.526099</td>\n",
       "      <td>NaN</td>\n",
       "      <td>0.748116</td>\n",
       "      <td>0.5</td>\n",
       "      <td>0.655982</td>\n",
       "      <td>3.174114</td>\n",
       "      <td>2.466254</td>\n",
       "      <td>mbmf</td>\n",
       "      <td>4.154395e-01</td>\n",
       "      <td>A1GQTXZPHAMLEH</td>\n",
       "      <td>0.297792</td>\n",
       "    </tr>\n",
       "    <tr>\n",
       "      <th>13</th>\n",
       "      <td>270.205762</td>\n",
       "      <td>0.010000</td>\n",
       "      <td>NaN</td>\n",
       "      <td>NaN</td>\n",
       "      <td>0.000000</td>\n",
       "      <td>0.020267</td>\n",
       "      <td>0.010000</td>\n",
       "      <td>assoc</td>\n",
       "      <td>-3.544065e+00</td>\n",
       "      <td>A1GZOEMTN2KYDA</td>\n",
       "      <td>NaN</td>\n",
       "    </tr>\n",
       "    <tr>\n",
       "      <th>89</th>\n",
       "      <td>268.851610</td>\n",
       "      <td>NaN</td>\n",
       "      <td>0.010000</td>\n",
       "      <td>0.5</td>\n",
       "      <td>0.000000</td>\n",
       "      <td>0.019425</td>\n",
       "      <td>0.010000</td>\n",
       "      <td>mbmf</td>\n",
       "      <td>-3.198562e+00</td>\n",
       "      <td>A1GZOEMTN2KYDA</td>\n",
       "      <td>0.977805</td>\n",
       "    </tr>\n",
       "    <tr>\n",
       "      <th>14</th>\n",
       "      <td>189.898405</td>\n",
       "      <td>0.252607</td>\n",
       "      <td>NaN</td>\n",
       "      <td>NaN</td>\n",
       "      <td>0.309115</td>\n",
       "      <td>0.078993</td>\n",
       "      <td>3.874600</td>\n",
       "      <td>assoc</td>\n",
       "      <td>2.000000e+01</td>\n",
       "      <td>A1IFVCI9XDS70U</td>\n",
       "      <td>NaN</td>\n",
       "    </tr>\n",
       "    <tr>\n",
       "      <th>90</th>\n",
       "      <td>164.884244</td>\n",
       "      <td>NaN</td>\n",
       "      <td>0.235013</td>\n",
       "      <td>0.5</td>\n",
       "      <td>0.559737</td>\n",
       "      <td>7.709407</td>\n",
       "      <td>3.957234</td>\n",
       "      <td>mbmf</td>\n",
       "      <td>7.860706e-02</td>\n",
       "      <td>A1IFVCI9XDS70U</td>\n",
       "      <td>0.000000</td>\n",
       "    </tr>\n",
       "    <tr>\n",
       "      <th>16</th>\n",
       "      <td>229.162178</td>\n",
       "      <td>0.994352</td>\n",
       "      <td>NaN</td>\n",
       "      <td>NaN</td>\n",
       "      <td>0.238760</td>\n",
       "      <td>1.004380</td>\n",
       "      <td>0.607090</td>\n",
       "      <td>assoc</td>\n",
       "      <td>1.207485e+00</td>\n",
       "      <td>A1LRJ4U04532TM</td>\n",
       "      <td>NaN</td>\n",
       "    </tr>\n",
       "    <tr>\n",
       "      <th>92</th>\n",
       "      <td>221.112199</td>\n",
       "      <td>NaN</td>\n",
       "      <td>0.916811</td>\n",
       "      <td>0.5</td>\n",
       "      <td>0.783606</td>\n",
       "      <td>1.217563</td>\n",
       "      <td>0.655866</td>\n",
       "      <td>mbmf</td>\n",
       "      <td>8.589035e-01</td>\n",
       "      <td>A1LRJ4U04532TM</td>\n",
       "      <td>0.000000</td>\n",
       "    </tr>\n",
       "    <tr>\n",
       "      <th>17</th>\n",
       "      <td>231.359695</td>\n",
       "      <td>0.480891</td>\n",
       "      <td>NaN</td>\n",
       "      <td>NaN</td>\n",
       "      <td>0.283620</td>\n",
       "      <td>10.397574</td>\n",
       "      <td>4.081107</td>\n",
       "      <td>assoc</td>\n",
       "      <td>-2.354165e-04</td>\n",
       "      <td>A1MYLQQL8BBOYT</td>\n",
       "      <td>NaN</td>\n",
       "    </tr>\n",
       "    <tr>\n",
       "      <th>93</th>\n",
       "      <td>232.390116</td>\n",
       "      <td>NaN</td>\n",
       "      <td>0.483414</td>\n",
       "      <td>0.5</td>\n",
       "      <td>0.668259</td>\n",
       "      <td>2.806468</td>\n",
       "      <td>4.066692</td>\n",
       "      <td>mbmf</td>\n",
       "      <td>3.304072e-02</td>\n",
       "      <td>A1MYLQQL8BBOYT</td>\n",
       "      <td>0.608956</td>\n",
       "    </tr>\n",
       "    <tr>\n",
       "      <th>18</th>\n",
       "      <td>269.275704</td>\n",
       "      <td>0.718823</td>\n",
       "      <td>NaN</td>\n",
       "      <td>NaN</td>\n",
       "      <td>0.002390</td>\n",
       "      <td>20.000000</td>\n",
       "      <td>0.545569</td>\n",
       "      <td>assoc</td>\n",
       "      <td>-7.794144e-03</td>\n",
       "      <td>A1NGXQMOBCXDC3</td>\n",
       "      <td>NaN</td>\n",
       "    </tr>\n",
       "    <tr>\n",
       "      <th>94</th>\n",
       "      <td>269.095749</td>\n",
       "      <td>NaN</td>\n",
       "      <td>0.710877</td>\n",
       "      <td>0.5</td>\n",
       "      <td>0.000000</td>\n",
       "      <td>0.010000</td>\n",
       "      <td>0.549706</td>\n",
       "      <td>mbmf</td>\n",
       "      <td>-1.223959e+01</td>\n",
       "      <td>A1NGXQMOBCXDC3</td>\n",
       "      <td>0.000000</td>\n",
       "    </tr>\n",
       "    <tr>\n",
       "      <th>...</th>\n",
       "      <td>...</td>\n",
       "      <td>...</td>\n",
       "      <td>...</td>\n",
       "      <td>...</td>\n",
       "      <td>...</td>\n",
       "      <td>...</td>\n",
       "      <td>...</td>\n",
       "      <td>...</td>\n",
       "      <td>...</td>\n",
       "      <td>...</td>\n",
       "      <td>...</td>\n",
       "    </tr>\n",
       "    <tr>\n",
       "      <th>58</th>\n",
       "      <td>204.843503</td>\n",
       "      <td>0.623843</td>\n",
       "      <td>NaN</td>\n",
       "      <td>NaN</td>\n",
       "      <td>0.113004</td>\n",
       "      <td>9.878851</td>\n",
       "      <td>1.459657</td>\n",
       "      <td>assoc</td>\n",
       "      <td>1.287652e-01</td>\n",
       "      <td>ABNNX9AKIRYJ7</td>\n",
       "      <td>NaN</td>\n",
       "    </tr>\n",
       "    <tr>\n",
       "      <th>134</th>\n",
       "      <td>198.440116</td>\n",
       "      <td>NaN</td>\n",
       "      <td>0.441122</td>\n",
       "      <td>0.5</td>\n",
       "      <td>1.000000</td>\n",
       "      <td>4.325283</td>\n",
       "      <td>1.825802</td>\n",
       "      <td>mbmf</td>\n",
       "      <td>2.460253e-01</td>\n",
       "      <td>ABNNX9AKIRYJ7</td>\n",
       "      <td>0.413830</td>\n",
       "    </tr>\n",
       "    <tr>\n",
       "      <th>59</th>\n",
       "      <td>132.712570</td>\n",
       "      <td>0.693760</td>\n",
       "      <td>NaN</td>\n",
       "      <td>NaN</td>\n",
       "      <td>0.157963</td>\n",
       "      <td>13.126189</td>\n",
       "      <td>2.862682</td>\n",
       "      <td>assoc</td>\n",
       "      <td>1.070832e-01</td>\n",
       "      <td>AFNGM40QC84Z1</td>\n",
       "      <td>NaN</td>\n",
       "    </tr>\n",
       "    <tr>\n",
       "      <th>135</th>\n",
       "      <td>131.561707</td>\n",
       "      <td>NaN</td>\n",
       "      <td>0.711131</td>\n",
       "      <td>0.5</td>\n",
       "      <td>0.945366</td>\n",
       "      <td>6.421627</td>\n",
       "      <td>2.836584</td>\n",
       "      <td>mbmf</td>\n",
       "      <td>2.631023e-01</td>\n",
       "      <td>AFNGM40QC84Z1</td>\n",
       "      <td>0.342890</td>\n",
       "    </tr>\n",
       "    <tr>\n",
       "      <th>60</th>\n",
       "      <td>231.754350</td>\n",
       "      <td>0.673571</td>\n",
       "      <td>NaN</td>\n",
       "      <td>NaN</td>\n",
       "      <td>0.492834</td>\n",
       "      <td>1.936455</td>\n",
       "      <td>1.597813</td>\n",
       "      <td>assoc</td>\n",
       "      <td>6.054242e-01</td>\n",
       "      <td>AI1MF6MS74XFY</td>\n",
       "      <td>NaN</td>\n",
       "    </tr>\n",
       "    <tr>\n",
       "      <th>136</th>\n",
       "      <td>209.384195</td>\n",
       "      <td>NaN</td>\n",
       "      <td>0.521641</td>\n",
       "      <td>0.5</td>\n",
       "      <td>0.659561</td>\n",
       "      <td>6.020625</td>\n",
       "      <td>1.957002</td>\n",
       "      <td>mbmf</td>\n",
       "      <td>7.994499e-02</td>\n",
       "      <td>AI1MF6MS74XFY</td>\n",
       "      <td>0.334359</td>\n",
       "    </tr>\n",
       "    <tr>\n",
       "      <th>61</th>\n",
       "      <td>216.380355</td>\n",
       "      <td>0.415093</td>\n",
       "      <td>NaN</td>\n",
       "      <td>NaN</td>\n",
       "      <td>1.000000</td>\n",
       "      <td>1.565631</td>\n",
       "      <td>2.992851</td>\n",
       "      <td>assoc</td>\n",
       "      <td>5.982689e-01</td>\n",
       "      <td>AIEKCWYZTS41V</td>\n",
       "      <td>NaN</td>\n",
       "    </tr>\n",
       "    <tr>\n",
       "      <th>137</th>\n",
       "      <td>202.950828</td>\n",
       "      <td>NaN</td>\n",
       "      <td>0.458009</td>\n",
       "      <td>0.5</td>\n",
       "      <td>0.435267</td>\n",
       "      <td>8.553099</td>\n",
       "      <td>2.870466</td>\n",
       "      <td>mbmf</td>\n",
       "      <td>8.325416e-02</td>\n",
       "      <td>AIEKCWYZTS41V</td>\n",
       "      <td>0.680623</td>\n",
       "    </tr>\n",
       "    <tr>\n",
       "      <th>63</th>\n",
       "      <td>266.702367</td>\n",
       "      <td>1.000000</td>\n",
       "      <td>NaN</td>\n",
       "      <td>NaN</td>\n",
       "      <td>0.000000</td>\n",
       "      <td>0.541302</td>\n",
       "      <td>0.722998</td>\n",
       "      <td>assoc</td>\n",
       "      <td>-1.689114e-01</td>\n",
       "      <td>AJ34WB9Z37ILU</td>\n",
       "      <td>NaN</td>\n",
       "    </tr>\n",
       "    <tr>\n",
       "      <th>139</th>\n",
       "      <td>265.353150</td>\n",
       "      <td>NaN</td>\n",
       "      <td>1.000000</td>\n",
       "      <td>0.5</td>\n",
       "      <td>1.000000</td>\n",
       "      <td>0.020148</td>\n",
       "      <td>0.722952</td>\n",
       "      <td>mbmf</td>\n",
       "      <td>-4.053122e+00</td>\n",
       "      <td>AJ34WB9Z37ILU</td>\n",
       "      <td>0.000000</td>\n",
       "    </tr>\n",
       "    <tr>\n",
       "      <th>64</th>\n",
       "      <td>179.242905</td>\n",
       "      <td>0.185614</td>\n",
       "      <td>NaN</td>\n",
       "      <td>NaN</td>\n",
       "      <td>0.397070</td>\n",
       "      <td>5.484334</td>\n",
       "      <td>0.763268</td>\n",
       "      <td>assoc</td>\n",
       "      <td>1.762976e-01</td>\n",
       "      <td>AJ96T4J2PFLWG</td>\n",
       "      <td>NaN</td>\n",
       "    </tr>\n",
       "    <tr>\n",
       "      <th>140</th>\n",
       "      <td>177.358367</td>\n",
       "      <td>NaN</td>\n",
       "      <td>0.084934</td>\n",
       "      <td>0.5</td>\n",
       "      <td>1.000000</td>\n",
       "      <td>9.109429</td>\n",
       "      <td>0.970133</td>\n",
       "      <td>mbmf</td>\n",
       "      <td>1.165412e-01</td>\n",
       "      <td>AJ96T4J2PFLWG</td>\n",
       "      <td>0.446612</td>\n",
       "    </tr>\n",
       "    <tr>\n",
       "      <th>65</th>\n",
       "      <td>226.084173</td>\n",
       "      <td>0.623568</td>\n",
       "      <td>NaN</td>\n",
       "      <td>NaN</td>\n",
       "      <td>0.677830</td>\n",
       "      <td>3.173455</td>\n",
       "      <td>2.120590</td>\n",
       "      <td>assoc</td>\n",
       "      <td>3.147067e-01</td>\n",
       "      <td>AJD3JOWNVDZD1</td>\n",
       "      <td>NaN</td>\n",
       "    </tr>\n",
       "    <tr>\n",
       "      <th>141</th>\n",
       "      <td>216.083321</td>\n",
       "      <td>NaN</td>\n",
       "      <td>0.725002</td>\n",
       "      <td>0.5</td>\n",
       "      <td>1.000000</td>\n",
       "      <td>3.630455</td>\n",
       "      <td>1.909676</td>\n",
       "      <td>mbmf</td>\n",
       "      <td>2.216865e-01</td>\n",
       "      <td>AJD3JOWNVDZD1</td>\n",
       "      <td>0.543126</td>\n",
       "    </tr>\n",
       "    <tr>\n",
       "      <th>66</th>\n",
       "      <td>236.447329</td>\n",
       "      <td>0.535187</td>\n",
       "      <td>NaN</td>\n",
       "      <td>NaN</td>\n",
       "      <td>0.169446</td>\n",
       "      <td>2.031801</td>\n",
       "      <td>1.871258</td>\n",
       "      <td>assoc</td>\n",
       "      <td>5.252870e-01</td>\n",
       "      <td>AK37IEOYWN5YH</td>\n",
       "      <td>NaN</td>\n",
       "    </tr>\n",
       "    <tr>\n",
       "      <th>142</th>\n",
       "      <td>223.452588</td>\n",
       "      <td>NaN</td>\n",
       "      <td>0.309468</td>\n",
       "      <td>0.5</td>\n",
       "      <td>0.520229</td>\n",
       "      <td>4.328366</td>\n",
       "      <td>2.655981</td>\n",
       "      <td>mbmf</td>\n",
       "      <td>1.643817e-01</td>\n",
       "      <td>AK37IEOYWN5YH</td>\n",
       "      <td>0.000000</td>\n",
       "    </tr>\n",
       "    <tr>\n",
       "      <th>67</th>\n",
       "      <td>239.493758</td>\n",
       "      <td>0.180615</td>\n",
       "      <td>NaN</td>\n",
       "      <td>NaN</td>\n",
       "      <td>0.257094</td>\n",
       "      <td>14.502532</td>\n",
       "      <td>1.444090</td>\n",
       "      <td>assoc</td>\n",
       "      <td>-8.708939e-03</td>\n",
       "      <td>AKLV0WIZZ356X</td>\n",
       "      <td>NaN</td>\n",
       "    </tr>\n",
       "    <tr>\n",
       "      <th>143</th>\n",
       "      <td>238.297859</td>\n",
       "      <td>NaN</td>\n",
       "      <td>0.116477</td>\n",
       "      <td>0.5</td>\n",
       "      <td>0.105533</td>\n",
       "      <td>11.105904</td>\n",
       "      <td>1.554171</td>\n",
       "      <td>mbmf</td>\n",
       "      <td>-1.355163e-02</td>\n",
       "      <td>AKLV0WIZZ356X</td>\n",
       "      <td>0.464486</td>\n",
       "    </tr>\n",
       "    <tr>\n",
       "      <th>68</th>\n",
       "      <td>163.587742</td>\n",
       "      <td>0.571841</td>\n",
       "      <td>NaN</td>\n",
       "      <td>NaN</td>\n",
       "      <td>0.595708</td>\n",
       "      <td>7.291521</td>\n",
       "      <td>4.634911</td>\n",
       "      <td>assoc</td>\n",
       "      <td>1.517631e-01</td>\n",
       "      <td>AOXM7IK32TST5</td>\n",
       "      <td>NaN</td>\n",
       "    </tr>\n",
       "    <tr>\n",
       "      <th>144</th>\n",
       "      <td>153.870840</td>\n",
       "      <td>NaN</td>\n",
       "      <td>0.544140</td>\n",
       "      <td>0.5</td>\n",
       "      <td>0.499749</td>\n",
       "      <td>9.324675</td>\n",
       "      <td>4.765238</td>\n",
       "      <td>mbmf</td>\n",
       "      <td>1.036044e-01</td>\n",
       "      <td>AOXM7IK32TST5</td>\n",
       "      <td>0.645362</td>\n",
       "    </tr>\n",
       "    <tr>\n",
       "      <th>69</th>\n",
       "      <td>260.709161</td>\n",
       "      <td>0.161817</td>\n",
       "      <td>NaN</td>\n",
       "      <td>NaN</td>\n",
       "      <td>1.000000</td>\n",
       "      <td>4.410547</td>\n",
       "      <td>2.169800</td>\n",
       "      <td>assoc</td>\n",
       "      <td>2.463263e-02</td>\n",
       "      <td>AQVQHML14YYJH</td>\n",
       "      <td>NaN</td>\n",
       "    </tr>\n",
       "    <tr>\n",
       "      <th>145</th>\n",
       "      <td>263.100020</td>\n",
       "      <td>NaN</td>\n",
       "      <td>0.079687</td>\n",
       "      <td>0.5</td>\n",
       "      <td>0.237021</td>\n",
       "      <td>12.066592</td>\n",
       "      <td>2.812528</td>\n",
       "      <td>mbmf</td>\n",
       "      <td>1.252165e-02</td>\n",
       "      <td>AQVQHML14YYJH</td>\n",
       "      <td>0.517072</td>\n",
       "    </tr>\n",
       "    <tr>\n",
       "      <th>70</th>\n",
       "      <td>241.164341</td>\n",
       "      <td>0.605956</td>\n",
       "      <td>NaN</td>\n",
       "      <td>NaN</td>\n",
       "      <td>0.073564</td>\n",
       "      <td>2.015934</td>\n",
       "      <td>2.868291</td>\n",
       "      <td>assoc</td>\n",
       "      <td>-8.262264e-02</td>\n",
       "      <td>ARVU7VYF2489E</td>\n",
       "      <td>NaN</td>\n",
       "    </tr>\n",
       "    <tr>\n",
       "      <th>146</th>\n",
       "      <td>238.829520</td>\n",
       "      <td>NaN</td>\n",
       "      <td>0.602348</td>\n",
       "      <td>0.5</td>\n",
       "      <td>1.000000</td>\n",
       "      <td>0.467177</td>\n",
       "      <td>2.880443</td>\n",
       "      <td>mbmf</td>\n",
       "      <td>-3.797464e-01</td>\n",
       "      <td>ARVU7VYF2489E</td>\n",
       "      <td>0.000000</td>\n",
       "    </tr>\n",
       "    <tr>\n",
       "      <th>71</th>\n",
       "      <td>121.609092</td>\n",
       "      <td>0.041467</td>\n",
       "      <td>NaN</td>\n",
       "      <td>NaN</td>\n",
       "      <td>1.000000</td>\n",
       "      <td>6.929984</td>\n",
       "      <td>6.127677</td>\n",
       "      <td>assoc</td>\n",
       "      <td>1.191554e-01</td>\n",
       "      <td>AVQGY7FCU80XP</td>\n",
       "      <td>NaN</td>\n",
       "    </tr>\n",
       "    <tr>\n",
       "      <th>147</th>\n",
       "      <td>120.522623</td>\n",
       "      <td>NaN</td>\n",
       "      <td>0.040575</td>\n",
       "      <td>0.5</td>\n",
       "      <td>1.000000</td>\n",
       "      <td>6.751000</td>\n",
       "      <td>6.157879</td>\n",
       "      <td>mbmf</td>\n",
       "      <td>1.487074e-01</td>\n",
       "      <td>AVQGY7FCU80XP</td>\n",
       "      <td>0.000000</td>\n",
       "    </tr>\n",
       "    <tr>\n",
       "      <th>72</th>\n",
       "      <td>253.497209</td>\n",
       "      <td>0.499850</td>\n",
       "      <td>NaN</td>\n",
       "      <td>NaN</td>\n",
       "      <td>0.490077</td>\n",
       "      <td>3.776478</td>\n",
       "      <td>1.505766</td>\n",
       "      <td>assoc</td>\n",
       "      <td>2.503063e-02</td>\n",
       "      <td>AW2LIJBEY8QUE</td>\n",
       "      <td>NaN</td>\n",
       "    </tr>\n",
       "    <tr>\n",
       "      <th>148</th>\n",
       "      <td>245.728475</td>\n",
       "      <td>NaN</td>\n",
       "      <td>0.541459</td>\n",
       "      <td>0.5</td>\n",
       "      <td>0.582892</td>\n",
       "      <td>5.212609</td>\n",
       "      <td>1.443329</td>\n",
       "      <td>mbmf</td>\n",
       "      <td>-8.867137e-03</td>\n",
       "      <td>AW2LIJBEY8QUE</td>\n",
       "      <td>0.584029</td>\n",
       "    </tr>\n",
       "    <tr>\n",
       "      <th>74</th>\n",
       "      <td>268.340907</td>\n",
       "      <td>0.110159</td>\n",
       "      <td>NaN</td>\n",
       "      <td>NaN</td>\n",
       "      <td>1.000000</td>\n",
       "      <td>3.363105</td>\n",
       "      <td>1.572349</td>\n",
       "      <td>assoc</td>\n",
       "      <td>7.132175e-02</td>\n",
       "      <td>AY5O199V9M9O7</td>\n",
       "      <td>NaN</td>\n",
       "    </tr>\n",
       "    <tr>\n",
       "      <th>150</th>\n",
       "      <td>261.101787</td>\n",
       "      <td>NaN</td>\n",
       "      <td>0.367428</td>\n",
       "      <td>0.5</td>\n",
       "      <td>0.373509</td>\n",
       "      <td>4.828894</td>\n",
       "      <td>0.816694</td>\n",
       "      <td>mbmf</td>\n",
       "      <td>1.614564e-02</td>\n",
       "      <td>AY5O199V9M9O7</td>\n",
       "      <td>0.254806</td>\n",
       "    </tr>\n",
       "  </tbody>\n",
       "</table>\n",
       "<p>118 rows × 11 columns</p>\n",
       "</div>"
      ],
      "text/plain": [
       "             LL     alpha    alpha1  alpha2  eligibility         m1        m2  \\\n",
       "0    269.064463  0.031964       NaN     NaN     0.188939   0.010000  6.062521   \n",
       "76   267.690743       NaN  0.031991     0.5     1.000000   0.010000  6.057720   \n",
       "1    251.531246  0.605971       NaN     NaN     1.000000   0.855349  1.598755   \n",
       "77   247.402409       NaN  0.567820     0.5     0.101579   2.615283  1.659696   \n",
       "2    212.804578  0.013201       NaN     NaN     0.320412   5.392806  5.156650   \n",
       "78   210.278897       NaN  0.026686     0.5     1.000000   7.299318  3.505943   \n",
       "4    111.268862  0.421723       NaN     NaN     1.000000   3.097780  8.198218   \n",
       "80    96.777845       NaN  0.421627     0.5     0.817230  11.600792  8.198479   \n",
       "5    265.221603  0.676434       NaN     NaN     0.022864   0.047422  0.718845   \n",
       "81   262.366796       NaN  0.654756     0.5     0.545310   1.256103  0.735073   \n",
       "7    196.255286  0.263398       NaN     NaN     1.000000   5.118195  3.960438   \n",
       "83   184.714907       NaN  0.313129     0.5     1.000000   7.984217  3.673120   \n",
       "9    249.154948  0.752405       NaN     NaN     0.611671   0.010000  2.007121   \n",
       "85   246.248169       NaN  0.780804     0.5     1.000000   0.459452  1.960308   \n",
       "10   247.729392  1.000000       NaN     NaN     1.000000   1.658849  0.396429   \n",
       "86   238.600397       NaN  0.045788     0.5     0.511389   5.266625  2.793158   \n",
       "11   266.169026  0.010000       NaN     NaN     0.000000   0.300293  0.010000   \n",
       "87   264.781284       NaN  0.010000     0.5     0.000000   0.010000  0.010000   \n",
       "12   204.062030  0.795459       NaN     NaN     0.654059   1.989511  2.351008   \n",
       "88   197.526099       NaN  0.748116     0.5     0.655982   3.174114  2.466254   \n",
       "13   270.205762  0.010000       NaN     NaN     0.000000   0.020267  0.010000   \n",
       "89   268.851610       NaN  0.010000     0.5     0.000000   0.019425  0.010000   \n",
       "14   189.898405  0.252607       NaN     NaN     0.309115   0.078993  3.874600   \n",
       "90   164.884244       NaN  0.235013     0.5     0.559737   7.709407  3.957234   \n",
       "16   229.162178  0.994352       NaN     NaN     0.238760   1.004380  0.607090   \n",
       "92   221.112199       NaN  0.916811     0.5     0.783606   1.217563  0.655866   \n",
       "17   231.359695  0.480891       NaN     NaN     0.283620  10.397574  4.081107   \n",
       "93   232.390116       NaN  0.483414     0.5     0.668259   2.806468  4.066692   \n",
       "18   269.275704  0.718823       NaN     NaN     0.002390  20.000000  0.545569   \n",
       "94   269.095749       NaN  0.710877     0.5     0.000000   0.010000  0.549706   \n",
       "..          ...       ...       ...     ...          ...        ...       ...   \n",
       "58   204.843503  0.623843       NaN     NaN     0.113004   9.878851  1.459657   \n",
       "134  198.440116       NaN  0.441122     0.5     1.000000   4.325283  1.825802   \n",
       "59   132.712570  0.693760       NaN     NaN     0.157963  13.126189  2.862682   \n",
       "135  131.561707       NaN  0.711131     0.5     0.945366   6.421627  2.836584   \n",
       "60   231.754350  0.673571       NaN     NaN     0.492834   1.936455  1.597813   \n",
       "136  209.384195       NaN  0.521641     0.5     0.659561   6.020625  1.957002   \n",
       "61   216.380355  0.415093       NaN     NaN     1.000000   1.565631  2.992851   \n",
       "137  202.950828       NaN  0.458009     0.5     0.435267   8.553099  2.870466   \n",
       "63   266.702367  1.000000       NaN     NaN     0.000000   0.541302  0.722998   \n",
       "139  265.353150       NaN  1.000000     0.5     1.000000   0.020148  0.722952   \n",
       "64   179.242905  0.185614       NaN     NaN     0.397070   5.484334  0.763268   \n",
       "140  177.358367       NaN  0.084934     0.5     1.000000   9.109429  0.970133   \n",
       "65   226.084173  0.623568       NaN     NaN     0.677830   3.173455  2.120590   \n",
       "141  216.083321       NaN  0.725002     0.5     1.000000   3.630455  1.909676   \n",
       "66   236.447329  0.535187       NaN     NaN     0.169446   2.031801  1.871258   \n",
       "142  223.452588       NaN  0.309468     0.5     0.520229   4.328366  2.655981   \n",
       "67   239.493758  0.180615       NaN     NaN     0.257094  14.502532  1.444090   \n",
       "143  238.297859       NaN  0.116477     0.5     0.105533  11.105904  1.554171   \n",
       "68   163.587742  0.571841       NaN     NaN     0.595708   7.291521  4.634911   \n",
       "144  153.870840       NaN  0.544140     0.5     0.499749   9.324675  4.765238   \n",
       "69   260.709161  0.161817       NaN     NaN     1.000000   4.410547  2.169800   \n",
       "145  263.100020       NaN  0.079687     0.5     0.237021  12.066592  2.812528   \n",
       "70   241.164341  0.605956       NaN     NaN     0.073564   2.015934  2.868291   \n",
       "146  238.829520       NaN  0.602348     0.5     1.000000   0.467177  2.880443   \n",
       "71   121.609092  0.041467       NaN     NaN     1.000000   6.929984  6.127677   \n",
       "147  120.522623       NaN  0.040575     0.5     1.000000   6.751000  6.157879   \n",
       "72   253.497209  0.499850       NaN     NaN     0.490077   3.776478  1.505766   \n",
       "148  245.728475       NaN  0.541459     0.5     0.582892   5.212609  1.443329   \n",
       "74   268.340907  0.110159       NaN     NaN     1.000000   3.363105  1.572349   \n",
       "150  261.101787       NaN  0.367428     0.5     0.373509   4.828894  0.816694   \n",
       "\n",
       "     model        persev                    sub         w  \n",
       "0    assoc -3.104816e+00  A002160837SWJFPIAI7L7       NaN  \n",
       "76    mbmf -2.040388e+00  A002160837SWJFPIAI7L7  1.000000  \n",
       "1    assoc  5.019329e-01         A12DBV9FNAOFEM       NaN  \n",
       "77    mbmf  1.479927e-01         A12DBV9FNAOFEM  0.680002  \n",
       "2    assoc  2.289448e-01         A138BU1VWM2RKN       NaN  \n",
       "78    mbmf  1.682433e-01         A138BU1VWM2RKN  0.773550  \n",
       "4    assoc  7.520646e-01         A13VIJ7G997ZCY       NaN  \n",
       "80    mbmf  1.340143e-01         A13VIJ7G997ZCY  0.468593  \n",
       "5    assoc  9.810357e+00         A160HFSRDNT91E       NaN  \n",
       "81    mbmf  3.551437e-01         A160HFSRDNT91E  1.000000  \n",
       "7    assoc  2.404955e-01         A1C1V5NOGHGR1O       NaN  \n",
       "83    mbmf  1.330350e-01         A1C1V5NOGHGR1O  0.832795  \n",
       "9    assoc  6.133094e+00          A1CSDIX05PK9V       NaN  \n",
       "85    mbmf  7.711461e-02          A1CSDIX05PK9V  0.000000  \n",
       "10   assoc  5.560460e-01         A1DABMXVWWL0TR       NaN  \n",
       "86    mbmf  1.416948e-01         A1DABMXVWWL0TR  0.000000  \n",
       "11   assoc  4.127652e-07         A1FL20WGFRJS1T       NaN  \n",
       "87    mbmf  1.076528e+00         A1FL20WGFRJS1T  0.894739  \n",
       "12   assoc  7.487026e-01         A1GQTXZPHAMLEH       NaN  \n",
       "88    mbmf  4.154395e-01         A1GQTXZPHAMLEH  0.297792  \n",
       "13   assoc -3.544065e+00         A1GZOEMTN2KYDA       NaN  \n",
       "89    mbmf -3.198562e+00         A1GZOEMTN2KYDA  0.977805  \n",
       "14   assoc  2.000000e+01         A1IFVCI9XDS70U       NaN  \n",
       "90    mbmf  7.860706e-02         A1IFVCI9XDS70U  0.000000  \n",
       "16   assoc  1.207485e+00         A1LRJ4U04532TM       NaN  \n",
       "92    mbmf  8.589035e-01         A1LRJ4U04532TM  0.000000  \n",
       "17   assoc -2.354165e-04         A1MYLQQL8BBOYT       NaN  \n",
       "93    mbmf  3.304072e-02         A1MYLQQL8BBOYT  0.608956  \n",
       "18   assoc -7.794144e-03         A1NGXQMOBCXDC3       NaN  \n",
       "94    mbmf -1.223959e+01         A1NGXQMOBCXDC3  0.000000  \n",
       "..     ...           ...                    ...       ...  \n",
       "58   assoc  1.287652e-01          ABNNX9AKIRYJ7       NaN  \n",
       "134   mbmf  2.460253e-01          ABNNX9AKIRYJ7  0.413830  \n",
       "59   assoc  1.070832e-01          AFNGM40QC84Z1       NaN  \n",
       "135   mbmf  2.631023e-01          AFNGM40QC84Z1  0.342890  \n",
       "60   assoc  6.054242e-01          AI1MF6MS74XFY       NaN  \n",
       "136   mbmf  7.994499e-02          AI1MF6MS74XFY  0.334359  \n",
       "61   assoc  5.982689e-01          AIEKCWYZTS41V       NaN  \n",
       "137   mbmf  8.325416e-02          AIEKCWYZTS41V  0.680623  \n",
       "63   assoc -1.689114e-01          AJ34WB9Z37ILU       NaN  \n",
       "139   mbmf -4.053122e+00          AJ34WB9Z37ILU  0.000000  \n",
       "64   assoc  1.762976e-01          AJ96T4J2PFLWG       NaN  \n",
       "140   mbmf  1.165412e-01          AJ96T4J2PFLWG  0.446612  \n",
       "65   assoc  3.147067e-01          AJD3JOWNVDZD1       NaN  \n",
       "141   mbmf  2.216865e-01          AJD3JOWNVDZD1  0.543126  \n",
       "66   assoc  5.252870e-01          AK37IEOYWN5YH       NaN  \n",
       "142   mbmf  1.643817e-01          AK37IEOYWN5YH  0.000000  \n",
       "67   assoc -8.708939e-03          AKLV0WIZZ356X       NaN  \n",
       "143   mbmf -1.355163e-02          AKLV0WIZZ356X  0.464486  \n",
       "68   assoc  1.517631e-01          AOXM7IK32TST5       NaN  \n",
       "144   mbmf  1.036044e-01          AOXM7IK32TST5  0.645362  \n",
       "69   assoc  2.463263e-02          AQVQHML14YYJH       NaN  \n",
       "145   mbmf  1.252165e-02          AQVQHML14YYJH  0.517072  \n",
       "70   assoc -8.262264e-02          ARVU7VYF2489E       NaN  \n",
       "146   mbmf -3.797464e-01          ARVU7VYF2489E  0.000000  \n",
       "71   assoc  1.191554e-01          AVQGY7FCU80XP       NaN  \n",
       "147   mbmf  1.487074e-01          AVQGY7FCU80XP  0.000000  \n",
       "72   assoc  2.503063e-02          AW2LIJBEY8QUE       NaN  \n",
       "148   mbmf -8.867137e-03          AW2LIJBEY8QUE  0.584029  \n",
       "74   assoc  7.132175e-02          AY5O199V9M9O7       NaN  \n",
       "150   mbmf  1.614564e-02          AY5O199V9M9O7  0.254806  \n",
       "\n",
       "[118 rows x 11 columns]"
      ]
     },
     "execution_count": 90,
     "metadata": {},
     "output_type": "execute_result"
    }
   ],
   "source": [
    "results.sort(['sub','model'])"
   ]
  },
  {
   "cell_type": "code",
   "execution_count": 106,
   "metadata": {
    "collapsed": false
   },
   "outputs": [
    {
     "data": {
      "text/plain": [
       "array([ 1.,  1.,  1.,  1.,  1.])"
      ]
     },
     "execution_count": 106,
     "metadata": {},
     "output_type": "execute_result"
    }
   ],
   "source": [
    "res.hess_inv.matvec(np.ones(5))"
   ]
  },
  {
   "cell_type": "code",
   "execution_count": 123,
   "metadata": {
    "collapsed": false
   },
   "outputs": [
    {
     "data": {
      "text/plain": [
       "-263.48731830683391"
      ]
     },
     "execution_count": 123,
     "metadata": {},
     "output_type": "execute_result"
    }
   ],
   "source": [
    "path = home_dir + '/modeling/'\n",
    "\n",
    "\n",
    "res = pickle.load(open(path + sub_ids[0] + '_mbmf_1alpha', \"rb\" ))\n",
    "inv_hess = res.hess_inv.matmat(np.identity(7))\n",
    "det_hess = np.log(np.linalg.det(np.linalg.inv(inv_hess))) #log determinant of hessian\n",
    "laplacian = res.fun*-1 + .5*np.log(1.0/20)*2 + .5*np.log(1.0/40) + .5*len(res.x)*np.log(2*np.pi) - det_hess*.5"
   ]
  },
  {
   "cell_type": "code",
   "execution_count": 124,
   "metadata": {
    "collapsed": false
   },
   "outputs": [
    {
     "ename": "NameError",
     "evalue": "name 'n' is not defined",
     "output_type": "error",
     "traceback": [
      "\u001b[0;31m---------------------------------------------------------------------------\u001b[0m",
      "\u001b[0;31mNameError\u001b[0m                                 Traceback (most recent call last)",
      "\u001b[0;32m<ipython-input-124-fe13119fb084>\u001b[0m in \u001b[0;36m<module>\u001b[0;34m()\u001b[0m\n\u001b[0;32m----> 1\u001b[0;31m \u001b[0mn\u001b[0m\u001b[0;34m\u001b[0m\u001b[0m\n\u001b[0m",
      "\u001b[0;31mNameError\u001b[0m: name 'n' is not defined"
     ]
    }
   ],
   "source": [
    "n"
   ]
  },
  {
   "cell_type": "code",
   "execution_count": null,
   "metadata": {
    "collapsed": true
   },
   "outputs": [],
   "source": []
  }
 ],
 "metadata": {
  "kernelspec": {
   "display_name": "Python 2",
   "language": "python",
   "name": "python2"
  },
  "language_info": {
   "codemirror_mode": {
    "name": "ipython",
    "version": 2
   },
   "file_extension": ".py",
   "mimetype": "text/x-python",
   "name": "python",
   "nbconvert_exporter": "python",
   "pygments_lexer": "ipython2",
   "version": "2.7.11"
  }
 },
 "nbformat": 4,
 "nbformat_minor": 0
}
