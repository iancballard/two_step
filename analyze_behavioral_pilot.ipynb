{
 "cells": [
  {
   "cell_type": "code",
   "execution_count": 2,
   "metadata": {
    "collapsed": false
   },
   "outputs": [
    {
     "name": "stderr",
     "output_type": "stream",
     "text": [
      "//anaconda/lib/python2.7/site-packages/matplotlib/font_manager.py:273: UserWarning: Matplotlib is building the font cache using fc-list. This may take a moment.\n",
      "  warnings.warn('Matplotlib is building the font cache using fc-list. This may take a moment.')\n"
     ]
    }
   ],
   "source": [
    "import os\n",
    "import numpy as np\n",
    "import glob\n",
    "import csv\n",
    "import matplotlib\n",
    "import glob\n",
    "import matplotlib.pyplot as plt\n",
    "import pandas as pd\n",
    "from pandas import DataFrame, Series\n",
    "import seaborn as sns\n",
    "from patsy import dmatrices\n",
    "from sklearn.linear_model import LogisticRegression\n",
    "from sklearn.cross_validation import train_test_split\n",
    "from sklearn import metrics\n",
    "from sklearn.cross_validation import cross_val_score\n",
    "import scipy\n",
    "import patsy\n",
    "%matplotlib inline\n"
   ]
  },
  {
   "cell_type": "markdown",
   "metadata": {},
   "source": [
    "ALL THE SUBJECTS"
   ]
  },
  {
   "cell_type": "code",
   "execution_count": 90,
   "metadata": {
    "collapsed": false
   },
   "outputs": [
    {
     "name": "stdout",
     "output_type": "stream",
     "text": [
      "101\n"
     ]
    }
   ],
   "source": [
    "home_dir = '/Users/ianballard/Dropbox/two_step_analysis/' #where the data live\n",
    "path = home_dir + '/modeling/'\n",
    "\n",
    "ignore_files = ['bonuses.csv','A1DS5O8MSI3ZH0.csv','A2C39KTRMOM1XZ.csv','all_data.csv']\n",
    "data_files = glob.glob(home_dir + '*csv')\n",
    "data_files = [d for d in data_files if d.split('/')[-1] not in ignore_files]\n",
    "sub_ids = map(lambda f: f.split('/')[-1].split('.csv')[0],data_files)\n",
    "print(len(data_files))"
   ]
  },
  {
   "cell_type": "code",
   "execution_count": 91,
   "metadata": {
    "collapsed": false,
    "scrolled": false
   },
   "outputs": [],
   "source": [
    "ntrials = 200 \n",
    "key_map = {37:0,39:1} #keystrokes. Remember that the location of the stimuli changes trial to trial\n",
    "state_map = {'3,2':1,'5,4':2,'2,3':1,'4,5':2} #\n",
    "practice = ['practice_first_stage', 'practice_second_stage', 'practice_FB_stage'] #labels for practice trials\n",
    "missed_responses = {}\n",
    "all_data = []\n",
    "\n",
    "for i,f in enumerate(data_files):\n",
    "    if True:\n",
    "        sub_id = sub_ids[i] #parse subid from filename\n",
    "        missed_responses[sub_id] = 0\n",
    "        #dictionary to fill. Shift rew and ttype so [rew,ttype][n-1] corresponds to stay[n].\n",
    "        data = {'rt1':[],'rt2':[],'action1':[],'action2':[],'choice1':[],\n",
    "                'choice2':[],'state':[],'rew':[np.NaN],'ttype':[np.NaN],'stay':[],\n",
    "                'correct':[np.NaN],'sub':[]} \n",
    "\n",
    "        #preprocess data\n",
    "        df = pd.read_csv(f) \n",
    "        df = df.drop(['view_history','stimulus','internal_chunk_id'],1) #drop useless columns\n",
    "\n",
    "        #drop practice trials\n",
    "        for t in practice: \n",
    "            df = df[df['trial_id'] != t]\n",
    "\n",
    "        #get choices, actions, rewards, RTs, etc from each trial\n",
    "        for j in range(ntrials): \n",
    "            trial_df = df[df['trial_num'] == j] #get data corresponding to that trial\n",
    "            if len(trial_df) == 3 and trial_df['key_press'].values[0] != -1 and trial_df['key_press'].values[1] != -1: \n",
    "                state = state_map[str(trial_df['condition'].values[1])]\n",
    "                data['rt1'].append(trial_df['rt'].values[0])\n",
    "                data['rt2'].append(trial_df['rt'].values[1])\n",
    "                data['rew'].append(float(trial_df['condition'].values[2])) \n",
    "                data['state'].append(state)\n",
    "\n",
    "                action1 = key_map[trial_df['key_press'].values[0]]\n",
    "                action2 = key_map[trial_df['key_press'].values[1]]\n",
    "                choice1 = int(trial_df['condition'].values[0].split(',')[action1])\n",
    "                choice2 = int(trial_df['condition'].values[1].split(',')[action2])\n",
    "\n",
    "                #determine if it was a switch or stay trial\n",
    "                if len(data['choice1'])>0 and (choice1 == data['choice1'][-1]):\n",
    "                    data['stay'].append('stay')\n",
    "                else:\n",
    "                    data['stay'].append('switch')\n",
    "                    \n",
    "                #determine if choice was \"correct\"\n",
    "                fb_probs = trial_df['FB_probs'].values[2].split(',')\n",
    "                fb_probs = map(float,fb_probs)\n",
    "                max_vals = max(fb_probs[0:2]),max(fb_probs[2:4])\n",
    "                max_state = max_vals.index(max(max_vals))\n",
    "                correct = int(choice1 == max_state)\n",
    "                \n",
    "                #add values to dictionary\n",
    "                data['correct'].append(correct)\n",
    "                data['action1'].append(action1)\n",
    "                data['action2'].append(action2)\n",
    "                data['choice1'].append(choice1)\n",
    "                data['choice2'].append(choice2)\n",
    "\n",
    "                #determine if it was a common or rare transition\n",
    "                if (choice1 == 0 and state == 1) or (choice1 == 1 and state == 2):\n",
    "                    data['ttype'].append('common')\n",
    "                else:\n",
    "                    data['ttype'].append('rare')\n",
    "            else:\n",
    "                missed_responses[sub_id] +=1\n",
    "\n",
    "        data['sub'] = [sub_id] * len(data['rt1'])\n",
    "\n",
    "        data['rew'] = data['rew'][:-1] #doesnt matter for prediction stay shift of next trial\n",
    "        data['ttype'] = data['ttype'][:-1]#doesnt matter for prediction stay shift of next trial\n",
    "        data['correct'] = data['correct'][:-1]#doesnt matter for prediction stay shift of next trial\n",
    "\n",
    "        data = pd.DataFrame(data) #make dataFrame\n",
    "        all_data.append(data)\n",
    "    \n",
    "#print len(all_data)   \n",
    "all_data = pd.concat(all_data)\n",
    "all_data = all_data.dropna() #drop the first trial for each subjext"
   ]
  },
  {
   "cell_type": "markdown",
   "metadata": {},
   "source": [
    "# Subject exclusions"
   ]
  },
  {
   "cell_type": "code",
   "execution_count": 92,
   "metadata": {
    "collapsed": true
   },
   "outputs": [],
   "source": [
    "#checks is a big list contains a small list\n",
    "def contains(small, big):\n",
    "    for i in xrange(len(big)-len(small)+1):\n",
    "        for j in xrange(len(small)):\n",
    "            if big[i+j] != small[j]:\n",
    "                break\n",
    "        else:\n",
    "            return i, i+len(small)\n",
    "    return False"
   ]
  },
  {
   "cell_type": "code",
   "execution_count": 93,
   "metadata": {
    "collapsed": true
   },
   "outputs": [],
   "source": [
    "bad_subs = set()"
   ]
  },
  {
   "cell_type": "code",
   "execution_count": 94,
   "metadata": {
    "collapsed": false
   },
   "outputs": [],
   "source": [
    "#random responding\n",
    "bad_length = 20\n",
    "bad_strings = [[37.0]*bad_length,[39.0]*bad_length, [37.0,39.0] *(bad_length/2)]\n",
    "\n",
    "for s in sub_ids:\n",
    "    for bad_str in bad_strings:\n",
    "        if contains(bad_str,key_presses[s]):\n",
    "            bad_subs.add(s)"
   ]
  },
  {
   "cell_type": "code",
   "execution_count": 95,
   "metadata": {
    "collapsed": true
   },
   "outputs": [],
   "source": [
    "#missed responses\n",
    "for s in missed_responses.keys():\n",
    "    if missed_responses[s] > 10:\n",
    "        bad_subs.add(s)"
   ]
  },
  {
   "cell_type": "code",
   "execution_count": 96,
   "metadata": {
    "collapsed": false
   },
   "outputs": [
    {
     "name": "stdout",
     "output_type": "stream",
     "text": [
      "76\n"
     ]
    }
   ],
   "source": [
    "#drop bad subjects\n",
    "sub_ids = [s for s in sub_ids if s not in bad_subs]\n",
    "print len(sub_ids)"
   ]
  },
  {
   "cell_type": "code",
   "execution_count": 97,
   "metadata": {
    "collapsed": true
   },
   "outputs": [],
   "source": [
    "# for s in sub_ids:\n",
    "#     all_data = all_data[all_data['sub'] != s]"
   ]
  },
  {
   "cell_type": "markdown",
   "metadata": {},
   "source": [
    "# Switch/Stay Analysis"
   ]
  },
  {
   "cell_type": "code",
   "execution_count": 98,
   "metadata": {
    "collapsed": false
   },
   "outputs": [],
   "source": [
    "for i in range(len(sub_ids)):\n",
    "    prob_stay = []\n",
    "    \n",
    "    sub_id = sub_ids[i]\n",
    "    this_data = all_data[all_data['sub'] == sub_id]\n",
    "    #ax = plt.subplot(4,4,i+1)\n",
    "\n",
    "    for outcome in (1,0):\n",
    "        for ttype in (\"common\", \"rare\"):\n",
    "            #print '%s %s' % (outcome, ttype)\n",
    "            \n",
    "            trials = this_data[this_data['rew'] == outcome]\n",
    "            trials = trials[trials['ttype'] == ttype]\n",
    "        \n",
    "            total_num_trials = len(trials)\n",
    "            trials = trials[trials['stay'] == 'stay']\n",
    "            num_stay = len(trials)\n",
    "        \n",
    "            prob_stay.append(float(num_stay) / float(total_num_trials))\n",
    "        \n",
    "#     print sub_ids[i],\",%.3f,%.3f,%.3f,%.3f\" % (prob_stay[0], prob_stay[1], prob_stay[2], prob_stay[3])    \n",
    "    #ax.bar(range(4), prob_stay)"
   ]
  },
  {
   "cell_type": "code",
   "execution_count": 99,
   "metadata": {
    "collapsed": false,
    "scrolled": false
   },
   "outputs": [
    {
     "name": "stdout",
     "output_type": "stream",
     "text": [
      "             action1   action2   choice1   choice2   correct         rt1  \\\n",
      "ttype  rew                                                                 \n",
      "common 0    0.490280  0.500361  0.466387  3.468553  0.477242  512.444242   \n",
      "       1    0.484012  0.509925  0.462527  3.453646  0.577609  525.770325   \n",
      "rare   0    0.498785  0.491885  0.483040  3.467217  0.567985  521.500422   \n",
      "       1    0.480161  0.520363  0.492792  3.479662  0.478435  532.236612   \n",
      "\n",
      "                   rt2     state  stay_indicator  \n",
      "ttype  rew                                        \n",
      "common 0    539.344554  1.481767        0.594835  \n",
      "       1    543.251851  1.480617        0.659028  \n",
      "rare   0    553.169192  1.487241        0.611414  \n",
      "       1    554.688113  1.486402        0.634523  \n"
     ]
    },
    {
     "data": {
      "image/png": "[encoded data removed]",
      "text/plain": [
       "<matplotlib.figure.Figure at 0x117e56090>"
      ]
     },
     "metadata": {},
     "output_type": "display_data"
    }
   ],
   "source": [
    "##make summary plot\n",
    "stay_map = {'switch':0,'stay':1}\n",
    "stay_binary = map(lambda x: stay_map[x], all_data['stay'].values)\n",
    "all_data['stay_indicator'] = stay_binary\n",
    "df = all_data.groupby(['ttype','rew','sub']).mean()\n",
    "df.reset_index(inplace=True)  \n",
    "sns.barplot(x = 'rew',y='stay_indicator',hue = 'ttype',data = df )\n",
    "print df.groupby(['ttype','rew']).mean()"
   ]
  },
  {
   "cell_type": "code",
   "execution_count": 100,
   "metadata": {
    "collapsed": false
   },
   "outputs": [
    {
     "name": "stdout",
     "output_type": "stream",
     "text": [
      "                   Amount\n",
      "Transaction Type         \n",
      "AssignmentPayment  -57.00\n",
      "BonusPayment      -464.10\n",
      "FeePayment        -104.26\n"
     ]
    },
    {
     "name": "stderr",
     "output_type": "stream",
     "text": [
      "/anaconda/lib/python2.7/site-packages/ipykernel/__main__.py:19: FutureWarning: sort(columns=....) is deprecated, use sort_values(by=.....)\n"
     ]
    }
   ],
   "source": [
    "# #calculate bonus for each subject (bonuses) \n",
    "# all_data.groupby(['sub']).sum()['rew'] * .02\n",
    "# bonuses = all_data.groupby(['sub']).sum()['rew'] * .02\n",
    "# bonuses = bonuses.reset_index()  \n",
    "# bonuses['Assignment'] = np.NaN\n",
    "# worker_data = pd.read_csv('transaction_data/Transactions_2016-01-18_to_2016-03-03.csv')\n",
    "# for sub in bonuses['sub']:\n",
    "#     assignment_id = worker_data[worker_data['Recipient ID'] == sub]['Assignment ID']\n",
    "#     if len(assignment_id) > 0:\n",
    "#         assignment_id = np.array(assignment_id)[0]\n",
    "#         bonuses.ix[bonuses['sub'] == sub,'Assignment'] = assignment_id\n",
    "#     else:\n",
    "#         print sub\n",
    "# bonuses = bonuses.dropna()\n",
    "# bonuses = bonuses.drop_duplicates()\n",
    "# # bonuses.to_csv('bonuses.csv',columns = ['Assignment','sub','rew'],header = False, index = False)\n",
    "\n",
    "payments = pd.read_csv(home_dir + '/transaction_data/logs_for_tamara_3_30.csv')\n",
    "payments = payments.sort('Transaction Type')\n",
    "payments.to_csv(home_dir + '/transaction_data/logs_for_tamara_3_30_sorted.csv')\n",
    "print payments.groupby('Transaction Type').sum()"
   ]
  },
  {
   "cell_type": "markdown",
   "metadata": {},
   "source": [
    "# Logistic Regression Analysis"
   ]
  },
  {
   "cell_type": "code",
   "execution_count": 101,
   "metadata": {
    "collapsed": false
   },
   "outputs": [],
   "source": [
    "#normalize regressors\n",
    "stay_map = {'common':.5,'rare':-.5}\n",
    "all_data['ttype_bin'] = map(lambda x: stay_map[x],all_data['ttype'])\n",
    "all_data['rew'] = all_data['rew'] - .5\n",
    "all_data['correct'] = all_data['correct'] - .5"
   ]
  },
  {
   "cell_type": "code",
   "execution_count": 102,
   "metadata": {
    "collapsed": false
   },
   "outputs": [],
   "source": [
    "#logistic regression analysis\n",
    "ttype_betas = []\n",
    "stay_betas = []\n",
    "rew_betas = []\n",
    "intercept_betas = []\n",
    "interaction_betas = []\n",
    "correct_betas = []\n",
    "score = []\n",
    "\n",
    "      \n",
    "for n,sub in enumerate(sub_ids):\n",
    "    sub_data = all_data[all_data['sub'] == sub] \n",
    "\n",
    "    y, X = dmatrices('stay_indicator ~ ttype_bin + rew + rew:ttype_bin + correct',\n",
    "                 sub_data,return_type=\"dataframe\")\n",
    "\n",
    "    #normalize (except the intercept)\n",
    "    X = patsy.standardize(X)\n",
    "    X['Intercept'] = 1\n",
    "\n",
    "    y = np.ravel(y)\n",
    "    model = LogisticRegression()\n",
    "    model = model.fit(X, y)\n",
    "\n",
    "    # betas = pd.DataFrame(zip(X.columns, np.transpose(model.coef_)))\n",
    "    score.append(model.score(X, y))\n",
    "    coef = model.coef_[0]\n",
    "    intercept_betas.append(coef[0])\n",
    "    ttype_betas.append(coef[1])\n",
    "    rew_betas.append(coef[2])\n",
    "    interaction_betas.append(coef[3])\n",
    "    correct_betas.append(coef[4])"
   ]
  },
  {
   "cell_type": "code",
   "execution_count": 103,
   "metadata": {
    "collapsed": false
   },
   "outputs": [
    {
     "name": "stdout",
     "output_type": "stream",
     "text": [
      "ttype 1.18996091604 0.237814984117\n",
      "intercept 7.27599928389 2.81157413195e-10\n",
      "rew 4.47154345638 2.71225731809e-05\n",
      "interaction 0.0648472203793 2.30929343613 0.0236824084809\n",
      "correct 0.0599963497485 2.25636964473 0.0269611828822\n",
      "score 0.684891107353 12.0501401767 3.23020624125e-19\n"
     ]
    }
   ],
   "source": [
    "t,p = scipy.stats.ttest_1samp(ttype_betas,0)\n",
    "print 'ttype',t,p\n",
    "\n",
    "t,p = scipy.stats.ttest_1samp(intercept_betas,0)\n",
    "print 'intercept',t,p\n",
    "\n",
    "t,p = scipy.stats.ttest_1samp(rew_betas,0)\n",
    "print 'rew',t,p\n",
    "\n",
    "t,p = scipy.stats.ttest_1samp(interaction_betas,0)\n",
    "print 'interaction',np.mean(interaction_betas),t,p\n",
    "\n",
    "t,p = scipy.stats.ttest_1samp(correct_betas,0)\n",
    "print 'correct',np.mean(correct_betas),t,p\n",
    "\n",
    "t,p = scipy.stats.ttest_1samp(score,.5)\n",
    "print 'score',np.mean(score),t,p"
   ]
  },
  {
   "cell_type": "code",
   "execution_count": null,
   "metadata": {
    "collapsed": true
   },
   "outputs": [],
   "source": [
    "ttype 0.864730969804 0.38925609257\n",
    "intercept 7.45747736317 3.26969150039e-11\n",
    "rew 4.56927323027 1.40060878182e-05\n",
    "interaction 0.0553190643411 2.43355446954 0.0167260023547\n",
    "correct 0.0511303588559 2.23374955596 0.0277270243581\n",
    "score 0.661784373971 12.8132346458 8.06631142296e-23"
   ]
  },
  {
   "cell_type": "code",
   "execution_count": 10,
   "metadata": {
    "collapsed": false,
    "scrolled": true
   },
   "outputs": [
    {
     "data": {
      "text/plain": [
       "(array([  4.,   3.,  11.,  15.,  24.,  22.,  10.,   7.,   2.,   3.]),\n",
       " array([-0.50535266, -0.38748248, -0.2696123 , -0.15174212, -0.03387194,\n",
       "         0.08399824,  0.20186842,  0.31973859,  0.43760877,  0.55547895,\n",
       "         0.67334913]),\n",
       " <a list of 10 Patch objects>)"
      ]
     },
     "execution_count": 10,
     "metadata": {},
     "output_type": "execute_result"
    },
    {
     "data": {
      "image/png": "[encoded data removed]",
      "text/plain": [
       "<matplotlib.figure.Figure at 0x117217810>"
      ]
     },
     "metadata": {},
     "output_type": "display_data"
    }
   ],
   "source": [
    "plt.hist(correct_betas)"
   ]
  },
  {
   "cell_type": "code",
   "execution_count": 11,
   "metadata": {
    "collapsed": false
   },
   "outputs": [
    {
     "name": "stdout",
     "output_type": "stream",
     "text": [
      "0.0511303588559\n",
      "0.228899245753\n"
     ]
    }
   ],
   "source": [
    "correct_betas\n",
    "print np.mean(correct_betas)\n",
    "print np.std(correct_betas)"
   ]
  },
  {
   "cell_type": "code",
   "execution_count": 13,
   "metadata": {
    "collapsed": false,
    "scrolled": true
   },
   "outputs": [
    {
     "name": "stdout",
     "output_type": "stream",
     "text": [
      "0.150388440442\n",
      "0.329129891917\n"
     ]
    }
   ],
   "source": [
    "rew_betas\n",
    "print np.mean(rew_betas)\n",
    "print np.std(rew_betas)"
   ]
  },
  {
   "cell_type": "code",
   "execution_count": 14,
   "metadata": {
    "collapsed": false
   },
   "outputs": [
    {
     "name": "stdout",
     "output_type": "stream",
     "text": [
      "0.0145807403295\n",
      "0.168615914529\n"
     ]
    }
   ],
   "source": [
    "ttype_betas\n",
    "print np.mean(ttype_betas)\n",
    "print np.std(ttype_betas)"
   ]
  },
  {
   "cell_type": "code",
   "execution_count": 15,
   "metadata": {
    "collapsed": false
   },
   "outputs": [
    {
     "name": "stdout",
     "output_type": "stream",
     "text": [
      "0.0553190643411\n",
      "0.227317962403\n"
     ]
    }
   ],
   "source": [
    "interaction_betas\n",
    "print np.mean(interaction_betas)\n",
    "print np.std(interaction_betas)"
   ]
  },
  {
   "cell_type": "code",
   "execution_count": 66,
   "metadata": {
    "collapsed": false
   },
   "outputs": [
    {
     "ename": "NameError",
     "evalue": "name 'FB_probs' is not defined",
     "output_type": "error",
     "traceback": [
      "\u001b[0;31m---------------------------------------------------------------------------\u001b[0m",
      "\u001b[0;31mNameError\u001b[0m                                 Traceback (most recent call last)",
      "\u001b[0;32m<ipython-input-66-f82bc895a3a4>\u001b[0m in \u001b[0;36m<module>\u001b[0;34m()\u001b[0m\n\u001b[1;32m      1\u001b[0m \u001b[0;31m#probability correct analysis\u001b[0m\u001b[0;34m\u001b[0m\u001b[0;34m\u001b[0m\u001b[0m\n\u001b[1;32m      2\u001b[0m \u001b[0;34m\u001b[0m\u001b[0m\n\u001b[0;32m----> 3\u001b[0;31m \u001b[0mdf\u001b[0m \u001b[0;34m=\u001b[0m \u001b[0mdf\u001b[0m\u001b[0;34m[\u001b[0m\u001b[0mFB_probs\u001b[0m\u001b[0;34m]\u001b[0m\u001b[0;34m\u001b[0m\u001b[0m\n\u001b[0m\u001b[1;32m      4\u001b[0m \u001b[0mFB_probs\u001b[0m \u001b[0;34m=\u001b[0m \u001b[0;34m[\u001b[0m\u001b[0;34m]\u001b[0m\u001b[0;34m\u001b[0m\u001b[0m\n\u001b[1;32m      5\u001b[0m \u001b[0mdf\u001b[0m \u001b[0;34m=\u001b[0m \u001b[0mpd\u001b[0m\u001b[0;34m.\u001b[0m\u001b[0mread_cvs\u001b[0m\u001b[0;34m(\u001b[0m\u001b[0;34m'df[FB_probs]'\u001b[0m\u001b[0;34m)\u001b[0m\u001b[0;34m\u001b[0m\u001b[0m\n",
      "\u001b[0;31mNameError\u001b[0m: name 'FB_probs' is not defined"
     ]
    }
   ],
   "source": [
    "#probability correct analysis\n",
    "\n",
    "df = df[FB_probs]\n",
    "FB_probs = []\n",
    "df = pd.read_cvs('df[FB_probs]')\n",
    "\n",
    "for numbers in 'FB_probs':\n",
    "    state1 = (2, 3)\n",
    "    state2 = (4, 5)\n",
    "    \n",
    "    state1 = 'FB_probs' * ['action1'] or 'FB_probs' * ['action2']\n",
    "    state2 = 'FB_probs' * ['action2'] or 'FB_probs' * ['action1']\n",
    "    \n",
    "    prob_state1 = []\n",
    "    prob_state2 = [] \n",
    "    \n",
    "    prob_state1 = prob_state1 / prob_state1 + prob_state2 \n",
    "    prob_state2 = prob_state2 / prob_state1 + prob_state2 \n",
    "    \n",
    "    max('prob_state1') #Compute max probability associated with state 1\n",
    "    max('prob_state2') #Compute max probability associated with state 2\n",
    "    max('prob_state1' and 'prob_state2') #Compute max probability associated with state 1 and state 2\n",
    "    \n",
    "    correct = max('prob_state1' and 'prob_state2')\n",
    "    \n",
    "    if action1 or action2 == max('prob_state1' and 'prob_state2'):\n",
    "        correct == 1\n",
    "    else:\n",
    "        correct == 0\n",
    "     "
   ]
  },
  {
   "cell_type": "code",
   "execution_count": null,
   "metadata": {
    "collapsed": true
   },
   "outputs": [],
   "source": [
    "#OR?                 \n",
    "correct = max((choice2 == 0 or 1) and choice1 == 0) or max((choice2 == 0 or 1) and choice1 == 1)"
   ]
  },
  {
   "cell_type": "code",
   "execution_count": null,
   "metadata": {
    "collapsed": false
   },
   "outputs": [],
   "source": []
  },
  {
   "cell_type": "code",
   "execution_count": null,
   "metadata": {
    "collapsed": true
   },
   "outputs": [],
   "source": []
  }
 ],
 "metadata": {
  "kernelspec": {
   "display_name": "Python 2",
   "language": "python",
   "name": "python2"
  },
  "language_info": {
   "codemirror_mode": {
    "name": "ipython",
    "version": 2
   },
   "file_extension": ".py",
   "mimetype": "text/x-python",
   "name": "python",
   "nbconvert_exporter": "python",
   "pygments_lexer": "ipython2",
   "version": "2.7.11"
  }
 },
 "nbformat": 4,
 "nbformat_minor": 0
}
