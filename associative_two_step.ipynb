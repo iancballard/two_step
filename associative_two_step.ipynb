{
 "cells": [
  {
   "cell_type": "markdown",
   "metadata": {},
   "source": [
    "#Fit two step task with an associative algorithm"
   ]
  },
  {
   "cell_type": "code",
   "execution_count": 1,
   "metadata": {
    "collapsed": true
   },
   "outputs": [],
   "source": [
    "import os\n",
    "import numpy as np\n",
    "import glob\n",
    "import csv\n",
    "import matplotlib\n",
    "import matplotlib.pyplot as plt\n",
    "import pandas as pd\n",
    "from scipy import stats, optimize\n",
    "from pandas import DataFrame, Series\n",
    "import seaborn as sns\n",
    "import random as rd\n",
    "from statsmodels.formula.api import ols\n",
    "from statsmodels.stats.anova import anova_lm\n",
    "import scipy.stats\n",
    "import patsy\n",
    "from scipy.optimize import minimize\n",
    "from scipy.optimize import basinhopping\n",
    "from sklearn import linear_model\n",
    "import multiprocessing\n",
    "import random\n",
    "from scipy.stats import norm\n",
    "from scipy.stats import beta\n",
    "%matplotlib inline"
   ]
  },
  {
   "cell_type": "code",
   "execution_count": 2,
   "metadata": {
    "collapsed": false
   },
   "outputs": [],
   "source": [
    "alpha = .45 #learning rate\n",
    "m=3.0 #temperature (not inverse)\n",
    "p=.4 #tendency to repeat actions >1 means perseveration (from Daw 2011)"
   ]
  },
  {
   "cell_type": "markdown",
   "metadata": {},
   "source": [
    "#Helper RL functions"
   ]
  },
  {
   "cell_type": "code",
   "execution_count": 3,
   "metadata": {
    "collapsed": false
   },
   "outputs": [],
   "source": [
    "#set up data structures and initialize reward and transition probabilities\n",
    "def initialize():\n",
    "    #define relevant objects\n",
    "    objects = ['a1','a2','b1','b2','c1','c2']\n",
    "    states = ['a','b','c','terminal']\n",
    "    actions = ['1','2']\n",
    "\n",
    "    #initialize empty data structures\n",
    "    transitions = {s2: {a : {s1 : 0 for s1 in states} for a in actions} for s2 in states}\n",
    "    rewards = {s: {a : 0 for a in actions} for s in states}\n",
    "    associations = {o1: {o2 : 0 for o2 in objects if o1!=o2} for o1 in objects}\n",
    "    V = {key: 0 for key in objects}\n",
    "      \n",
    "    #fill in transition probabilities\n",
    "    for s in ['b','c']: #all actions lead to terminal state\n",
    "        for a in actions:\n",
    "            transitions[s][a]['terminal'] = 1\n",
    "    transitions['a']['1']['b'] = .7\n",
    "    transitions['a']['1']['c'] = .3\n",
    "    transitions['a']['2']['b'] = .3\n",
    "    transitions['a']['2']['c'] = .7\n",
    "\n",
    "    #set up reward probs\n",
    "    rewards['b']['1'] = .6\n",
    "    rewards['b']['2'] = .4\n",
    "    rewards['c']['1'] = .4\n",
    "    rewards['c']['2'] = .6\n",
    "    \n",
    "    return transitions, rewards, V, associations, objects, states, actions"
   ]
  },
  {
   "cell_type": "code",
   "execution_count": 4,
   "metadata": {
    "collapsed": false
   },
   "outputs": [],
   "source": [
    "#gradually shift reward probabilitites to encourage learning\n",
    "def update_rewards(rewards):\n",
    "    for s in ['b','c']: #only update end states\n",
    "        for a in actions:\n",
    "            shift = np.random.normal(0,.025)\n",
    "            if (rewards[s][a] + shift > .75) or (rewards[s][a] + shift < .25): #reflecting boundaries\n",
    "                rewards[s][a] = rewards[s][a] - shift\n",
    "            else:\n",
    "                rewards[s][a] = rewards[s][a] + shift\n",
    "    return rewards"
   ]
  },
  {
   "cell_type": "code",
   "execution_count": 5,
   "metadata": {
    "collapsed": false
   },
   "outputs": [],
   "source": [
    "#draw a reward according to reward probability functions\n",
    "def get_reward(state,action,rewards):\n",
    "    return scipy.stats.bernoulli.rvs(rewards[state][action])"
   ]
  },
  {
   "cell_type": "code",
   "execution_count": 6,
   "metadata": {
    "collapsed": false
   },
   "outputs": [],
   "source": [
    "#get new state according to state, action, and transition probabilities\n",
    "def next_state(state,action): \n",
    "    probs = map(lambda x: transitions[state][action][x], states)\n",
    "    return np.random.choice(a=states,p=probs)"
   ]
  },
  {
   "cell_type": "code",
   "execution_count": 7,
   "metadata": {
    "collapsed": false
   },
   "outputs": [],
   "source": [
    "#pick an action according to softmax\n",
    "def get_action(state,V,last_a_action):\n",
    "    Vs = map(lambda a: V[state+a],actions) #get values of each object in state\n",
    "    if state == 'a': #model perseveration\n",
    "        if last_a_action == '1':\n",
    "            Vs[0] = Vs[0] + p\n",
    "        else:\n",
    "            Vs[1] = Vs[1] + p\n",
    "    normalizing_constant = np.sum(map(lambda v: np.exp(m*v),Vs)) #get total value of state\n",
    "    probs = map(lambda v: np.exp(v*m), Vs)\n",
    "    probs = probs / normalizing_constant\n",
    "    return np.random.choice(a=actions,p=probs)"
   ]
  },
  {
   "cell_type": "code",
   "execution_count": 8,
   "metadata": {
    "collapsed": true
   },
   "outputs": [],
   "source": [
    "#every time a transition occurs, increment the association between those two objects\n",
    "def update_associations(state,new_state,action,associations, nsteps):\n",
    "    if new_state != 'terminal':\n",
    "        nsteps +=1\n",
    "        for a in actions:\n",
    "            associations[state + action][new_state + a] = associations[state + action][new_state + a] + 1\n",
    "            associations[new_state + a][state + action] = associations[state + action][new_state + a] #make symmetric\n",
    "    return associations, nsteps"
   ]
  },
  {
   "cell_type": "code",
   "execution_count": 16,
   "metadata": {
    "collapsed": false
   },
   "outputs": [],
   "source": [
    "def update_value(rew,state,new_state,action,V,associations,nsteps):\n",
    "#Not sure whether to have value updated between first and second-stage choices. Doesn't seem to influence results one way or another\n",
    "#     if new_state != 'terminal':\n",
    "#         delta = rew + max(V[new_state + actions[0]],V[new_state + actions[1]]) - V[state+action]\n",
    "#     else:\n",
    "#         delta = rew - V[state+action]\n",
    "    delta = rew - V[state+action]\n",
    "    V[state+action] = V[state+action] + alpha*delta\n",
    "    \n",
    "    #percolate value one step back, weighted by the strength of association\n",
    "    for o in associations[state+action]:\n",
    "        delta = rew - V[o]\n",
    "        V[o] = V[o] + associations[state+action][o] * alpha* delta *4/ nsteps #4/nsteps is to normalize \n",
    "    return V"
   ]
  },
  {
   "cell_type": "markdown",
   "metadata": {},
   "source": [
    "#Run simulation"
   ]
  },
  {
   "cell_type": "code",
   "execution_count": 17,
   "metadata": {
    "collapsed": false
   },
   "outputs": [],
   "source": [
    "#Runs through the MDP until terminal state, keeping track of the output\n",
    "def take_step(state,rewards,associations,V,nsteps,output,last_a_action):\n",
    "    if state == 'terminal': #end state\n",
    "        rewards = update_rewards(rewards)\n",
    "        return rewards, associations, V, nsteps \n",
    "\n",
    "    #do standard MDP stuff\n",
    "    action = get_action(state,V,last_a_action)\n",
    "    new_state = next_state(state,action)\n",
    "    rew = get_reward(state,action,rewards)\n",
    "    if state == 'a':\n",
    "        last_a_action = action\n",
    "        \n",
    "    #log what's happening\n",
    "    output['rew'].append(rew)\n",
    "    output['action'].append(action)\n",
    "    output['newstate'].append(new_state)\n",
    "    output['state'].append(state)\n",
    "    \n",
    "    #update values and associations\n",
    "    associations,nsteps = update_associations(state,new_state,action,associations,nsteps) #update associations\n",
    "    value = update_value(rew,state,new_state,action,V,associations,nsteps)\n",
    "    \n",
    "    return take_step(new_state,rewards,associations,V,nsteps,output,last_a_action) #recurse until terminal state"
   ]
  },
  {
   "cell_type": "code",
   "execution_count": 18,
   "metadata": {
    "collapsed": false
   },
   "outputs": [],
   "source": [
    "#Main simulation code\n",
    "ntrials = 5000\n",
    "transitions, rewards, V, associations, objects, states, actions = initialize()\n",
    "nsteps = 0.0\n",
    "last_a_action = '1' #need one to get started\n",
    "output = {'state':[],'action':[],'newstate':[],'rew':[]}\n",
    "for i in range(ntrials):\n",
    "    rewards, associations, V, nsteps = take_step('a',rewards,associations,V,nsteps,output,last_a_action)"
   ]
  },
  {
   "cell_type": "markdown",
   "metadata": {},
   "source": [
    "#Analyze output by transition type and stay/shift behavior"
   ]
  },
  {
   "cell_type": "code",
   "execution_count": 1,
   "metadata": {
    "collapsed": false
   },
   "outputs": [
    {
     "ename": "NameError",
     "evalue": "name 'output' is not defined",
     "output_type": "error",
     "traceback": [
      "\u001b[0;31m---------------------------------------------------------------------------\u001b[0m",
      "\u001b[0;31mNameError\u001b[0m                                 Traceback (most recent call last)",
      "\u001b[0;32m<ipython-input-1-594a8388157b>\u001b[0m in \u001b[0;36m<module>\u001b[0;34m()\u001b[0m\n\u001b[1;32m      1\u001b[0m \u001b[0;31m#analyze wherer transition was common or rare\u001b[0m\u001b[0;34m\u001b[0m\u001b[0;34m\u001b[0m\u001b[0m\n\u001b[0;32m----> 2\u001b[0;31m \u001b[0moutput\u001b[0m\u001b[0;34m[\u001b[0m\u001b[0;34m'transition_type'\u001b[0m\u001b[0;34m]\u001b[0m \u001b[0;34m=\u001b[0m \u001b[0;34m[\u001b[0m\u001b[0;34m]\u001b[0m\u001b[0;34m\u001b[0m\u001b[0m\n\u001b[0m\u001b[1;32m      3\u001b[0m \u001b[0;32mfor\u001b[0m \u001b[0mn\u001b[0m\u001b[0;34m,\u001b[0m\u001b[0ms\u001b[0m \u001b[0;32min\u001b[0m \u001b[0menumerate\u001b[0m\u001b[0;34m(\u001b[0m\u001b[0moutput\u001b[0m\u001b[0;34m[\u001b[0m\u001b[0;34m'newstate'\u001b[0m\u001b[0;34m]\u001b[0m\u001b[0;34m)\u001b[0m\u001b[0;34m:\u001b[0m\u001b[0;34m\u001b[0m\u001b[0m\n\u001b[1;32m      4\u001b[0m     \u001b[0;32mif\u001b[0m \u001b[0ms\u001b[0m  \u001b[0;34m==\u001b[0m \u001b[0;34m'terminal'\u001b[0m\u001b[0;34m:\u001b[0m\u001b[0;34m\u001b[0m\u001b[0m\n\u001b[1;32m      5\u001b[0m         \u001b[0moutput\u001b[0m\u001b[0;34m[\u001b[0m\u001b[0;34m'transition_type'\u001b[0m\u001b[0;34m]\u001b[0m\u001b[0;34m.\u001b[0m\u001b[0mappend\u001b[0m\u001b[0;34m(\u001b[0m\u001b[0;34m'end'\u001b[0m\u001b[0;34m)\u001b[0m\u001b[0;34m\u001b[0m\u001b[0m\n",
      "\u001b[0;31mNameError\u001b[0m: name 'output' is not defined"
     ]
    }
   ],
   "source": [
    "#analyze wherer transition was common or rare\n",
    "output['transition_type'] = []\n",
    "for n,s in enumerate(output['newstate']):\n",
    "    if s  == 'terminal':\n",
    "        output['transition_type'].append('end')\n",
    "    elif (s == 'b' and output['action'][n] == '1') or (s == 'c' and output['action'][n] == '2'):\n",
    "        output['transition_type'].append('common')\n",
    "    elif (s == 'b' and output['action'][n] == '2') or (s == 'c' and output['action'][n] == '1'):\n",
    "        output['transition_type'].append('rare')\n",
    "output = pd.DataFrame(output)"
   ]
  },
  {
   "cell_type": "code",
   "execution_count": 20,
   "metadata": {
    "collapsed": false
   },
   "outputs": [],
   "source": [
    "#calculate whether a first level action was stay or switch stay and switch\n",
    "output['stay'] = np.nan\n",
    "a_indices =  output[output['state'] == 'a'].index\n",
    "a_indices = a_indices.values\n",
    "stay_or_switch = ['np.nan']\n",
    "for n,idx in enumerate(a_indices):\n",
    "    if n>0:\n",
    "        last_action = output.iloc[a_indices[n-1]].action\n",
    "        current_action = output.iloc[a_indices[n]].action\n",
    "        if last_action == current_action:\n",
    "            stay_or_switch.append('stay')\n",
    "        else:\n",
    "            stay_or_switch.append('switch')\n",
    "output.ix[output['state'] == 'a','stay']  = stay_or_switch"
   ]
  },
  {
   "cell_type": "code",
   "execution_count": 21,
   "metadata": {
    "collapsed": false
   },
   "outputs": [
    {
     "data": {
      "text/plain": [
       "<matplotlib.axes._subplots.AxesSubplot at 0x10ee70710>"
      ]
     },
     "execution_count": 21,
     "metadata": {},
     "output_type": "execute_result"
    },
    {
     "data": {
      "image/png": "[encoded data removed]",
      "text/plain": [
       "<matplotlib.figure.Figure at 0x10ee761d0>"
      ]
     },
     "metadata": {},
     "output_type": "display_data"
    }
   ],
   "source": [
    "#parse (and plot) results\n",
    "out = {'transitions' : [], 'choices' :[], 'value' : []}\n",
    "for r in ['rewarded','nonrewarded']:\n",
    "    if r == 'rewarded':\n",
    "        rew = 1\n",
    "    else:\n",
    "        rew = 0\n",
    "        \n",
    "    indices = output[(output['newstate']=='terminal') & (output['rew'] == rew)].index[:-1] #indices of terminal state\n",
    "    transition_type = output.iloc[indices-1]['transition_type'].values #common or rare\n",
    "    action = output.iloc[indices+1]['stay'].values #stay or switch\n",
    "    \n",
    "    for c in ['common','rare']:\n",
    "        choices = list(action[transition_type == c])        \n",
    "        out['transitions'].append(c)\n",
    "        out['choices'].append(r)\n",
    "        out['value'].append(choices.count('stay')/float(len(choices)))\n",
    "\n",
    "        \n",
    "out = pd.DataFrame(out)      \n",
    "sns.barplot(x='choices',y='value',hue='transitions',data=out,palette='Set3')"
   ]
  },
  {
   "cell_type": "code",
   "execution_count": 15,
   "metadata": {
    "collapsed": false
   },
   "outputs": [
    {
     "name": "stdout",
     "output_type": "stream",
     "text": [
      "a1 a2 0.0\n",
      "a1 b1 0.7028\n",
      "a1 b2 0.7028\n",
      "a1 c2 0.2968\n",
      "a1 c1 0.2968\n",
      "a2 a1 0.0\n",
      "a2 b1 0.0\n",
      "a2 b2 0.0\n",
      "a2 c2 0.0004\n",
      "a2 c1 0.0004\n",
      "b1 a1 0.7028\n",
      "b1 a2 0.0\n",
      "b1 b2 0.0\n",
      "b1 c2 0.0\n",
      "b1 c1 0.0\n",
      "b2 a1 0.7028\n",
      "b2 a2 0.0\n",
      "b2 b1 0.0\n",
      "b2 c2 0.0\n",
      "b2 c1 0.0\n",
      "c2 a1 0.2968\n",
      "c2 a2 0.0004\n",
      "c2 b1 0.0\n",
      "c2 b2 0.0\n",
      "c2 c1 0.0\n",
      "c1 a1 0.2968\n",
      "c1 a2 0.0004\n",
      "c1 b1 0.0\n",
      "c1 b2 0.0\n",
      "c1 c2 0.0\n",
      "{'a1': nan, 'a2': nan, 'b1': nan, 'b2': nan, 'c2': nan, 'c1': nan}\n"
     ]
    }
   ],
   "source": [
    "#Loook at associations and values learning\n",
    "for o1 in associations:\n",
    "    for o2 in associations:\n",
    "        if o1 != o2:\n",
    "            print o1,o2,associations[o1][o2]/nsteps\n",
    "print V"
   ]
  },
  {
   "cell_type": "code",
   "execution_count": null,
   "metadata": {
    "collapsed": true
   },
   "outputs": [],
   "source": []
  },
  {
   "cell_type": "code",
   "execution_count": null,
   "metadata": {
    "collapsed": true
   },
   "outputs": [],
   "source": []
  }
 ],
 "metadata": {
  "kernelspec": {
   "display_name": "Python 2",
   "language": "python",
   "name": "python2"
  },
  "language_info": {
   "codemirror_mode": {
    "name": "ipython",
    "version": 2
   },
   "file_extension": ".py",
   "mimetype": "text/x-python",
   "name": "python",
   "nbconvert_exporter": "python",
   "pygments_lexer": "ipython2",
   "version": "2.7.10"
  }
 },
 "nbformat": 4,
 "nbformat_minor": 0
}
