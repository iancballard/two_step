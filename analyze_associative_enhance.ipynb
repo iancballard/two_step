{
 "cells": [
  {
   "cell_type": "markdown",
   "metadata": {},
   "source": [
    "# Code for analyzing the behavioral data from the associative boosting task"
   ]
  },
  {
   "cell_type": "code",
   "execution_count": 1,
   "metadata": {
    "collapsed": false
   },
   "outputs": [
    {
     "name": "stderr",
     "output_type": "stream",
     "text": [
      "//anaconda/lib/python2.7/site-packages/matplotlib/font_manager.py:273: UserWarning: Matplotlib is building the font cache using fc-list. This may take a moment.\n",
      "  warnings.warn('Matplotlib is building the font cache using fc-list. This may take a moment.')\n"
     ]
    }
   ],
   "source": [
    "import os\n",
    "import numpy as np\n",
    "import glob\n",
    "import csv\n",
    "import matplotlib\n",
    "import glob\n",
    "import matplotlib.pyplot as plt\n",
    "import pandas as pd\n",
    "from pandas import DataFrame, Series\n",
    "import seaborn as sns\n",
    "from patsy import dmatrices\n",
    "from sklearn.linear_model import LogisticRegression\n",
    "import scipy\n",
    "import patsy\n",
    "import ast\n",
    "%matplotlib inline"
   ]
  },
  {
   "cell_type": "code",
   "execution_count": 2,
   "metadata": {
    "collapsed": true
   },
   "outputs": [],
   "source": [
    "home_dir = '/Users/ianballard/Dropbox/two_step_analysis/' #where the data live\n",
    "data_dir = home_dir + '/data/associative_boost/'"
   ]
  },
  {
   "cell_type": "code",
   "execution_count": 3,
   "metadata": {
    "collapsed": false
   },
   "outputs": [
    {
     "name": "stdout",
     "output_type": "stream",
     "text": [
      "26\n"
     ]
    }
   ],
   "source": [
    "ignore_files = []\n",
    "data_files = glob.glob(data_dir + '*txt')\n",
    "data_files = [d for d in data_files if d.split('/')[-1] not in ignore_files]\n",
    "sub_ids = map(lambda f: f.split('/')[-1].split('.csv')[0],data_files)\n",
    "print(len(data_files))"
   ]
  },
  {
   "cell_type": "code",
   "execution_count": 4,
   "metadata": {
    "collapsed": true
   },
   "outputs": [],
   "source": [
    "def fixup(sub_data,d):\n",
    "    if d in sub_data:\n",
    "        col = sub_data[d].dropna()     \n",
    "        sub_data[d] = col.values[0]    \n",
    "    return sub_data"
   ]
  },
  {
   "cell_type": "code",
   "execution_count": 5,
   "metadata": {
    "collapsed": false
   },
   "outputs": [],
   "source": [
    "all_data = []\n",
    "for i,f in enumerate(data_files):\n",
    "    sub_data = []\n",
    "    with open(f, 'r') as myfile:\n",
    "        data = myfile.read() \n",
    "    d = data.split('\\n')[:-1]\n",
    "    for line in d:\n",
    "        line = ast.literal_eval(line)\n",
    "        line = {key:str(val) for key, val in line.iteritems()}\n",
    "        line = pd.DataFrame(line, index=[0])\n",
    "        sub_data.append(line)\n",
    "    sub_data = pd.concat(sub_data).reset_index()\n",
    "    sub_data['sub'] = f.split('/')[-1].split('.')[0]\n",
    "    \n",
    "    #clean up demongraphic info\n",
    "    demographic = ['age','cig','drg','eth','his','oth','numPieces','number','text']\n",
    "    for d in demographic:\n",
    "        sub_data = fixup(sub_data,d)\n",
    "    sub_data = sub_data.drop('index', 1)\n",
    "    \n",
    "    all_data.append(sub_data)"
   ]
  },
  {
   "cell_type": "code",
   "execution_count": 6,
   "metadata": {
    "collapsed": true
   },
   "outputs": [],
   "source": [
    "all_data = pd.concat(all_data)"
   ]
  },
  {
   "cell_type": "code",
   "execution_count": 7,
   "metadata": {
    "collapsed": false
   },
   "outputs": [],
   "source": [
    "subs = list(set(all_data['sub']))"
   ]
  },
  {
   "cell_type": "code",
   "execution_count": 18,
   "metadata": {
    "collapsed": false
   },
   "outputs": [],
   "source": [
    "bad_subs = []\n",
    "for s in subs:\n",
    "    sub_df = all_data[all_data['sub'] == s]\n",
    "    if len(set(sub_df['loopNumber'].values)) != 4: #3 loops plus NaN\n",
    "        bad_subs.append(s)\n",
    "    if sub_df[sub_df['name'] == 'twoStep'].shape[0] < 145:\n",
    "        bad_subs.append(s)\n",
    "    \n",
    "for s in bad_subs:\n",
    "    all_data = all_data[all_data['sub'] != s]\n",
    "subs = list(set(all_data['sub']))"
   ]
  },
  {
   "cell_type": "code",
   "execution_count": 123,
   "metadata": {
    "collapsed": false
   },
   "outputs": [],
   "source": [
    "def get_prop_targ(pre_post,block_df):\n",
    "    pre = block_df[block_df['pre_post'] == pre_post]\n",
    "    num_targ = np.sum(pre['target_indicator'])\n",
    "    num_choice_targ = np.sum(pre['choice'] == 'tgt')\n",
    "    prop_targ = num_choice_targ *1.0 / num_targ\n",
    "    return prop_targ"
   ]
  },
  {
   "cell_type": "code",
   "execution_count": 203,
   "metadata": {
    "collapsed": false
   },
   "outputs": [],
   "source": [
    "neutral_choice = {'sub':[],'block':[],'pre_post':[],'prop':[]}\n",
    "for s in subs:\n",
    "    sub_df = all_data[all_data['sub'] == s]\n",
    "    neutral = sub_df[sub_df['name'] == 'neutral'].copy()\n",
    "\n",
    "    ##parse out the block and the run numbers from the neutral trial numbers [0 to 9]\n",
    "    trial_num = neutral['trialNum'].values\n",
    "    neutral_starts = np.where(trial_num == '0')[0]\n",
    "    neutral_run = []\n",
    "    for n,i in enumerate(neutral_starts):\n",
    "        if n < len(neutral_starts)-1:\n",
    "            block = np.zeros(neutral_starts[n+1] - i) + n\n",
    "        else:\n",
    "            block = np.zeros(len(trial_num) - i) + n\n",
    "        neutral_run.extend(block)\n",
    "    neutral_run = map(int,neutral_run)\n",
    "    neutral['run'] = neutral_run\n",
    "\n",
    "    block_map = {0:0,1:0,2:1,3:1,4:2,5:2}\n",
    "    neutral['block'] = [block_map[x] for x in neutral_run]\n",
    "\n",
    "    prepost_map = {0:'pre',1:'post',2:'pre',3:'post',4:'pre',5:'post'}\n",
    "    neutral['pre_post'] = [prepost_map[x] for x in neutral_run]\n",
    "\n",
    "\n",
    "    #parse the choices\n",
    "    choice_map = {'left':0,'right':1}\n",
    "    choices = [ast.literal_eval(x)['1'] for x in neutral['response'].values]\n",
    "    choices = [choice_map[x] for x in choices]\n",
    "    neutral['response'] = choices\n",
    "\n",
    "    #parse the stimuli\n",
    "    stims = [ast.literal_eval(x) for x in neutral['stimuli'].values]\n",
    "    which_choice = [stim[choice] for stim,choice in zip(stims,choices)]\n",
    "    target_indicator = ['tgt' in x for x in stims]\n",
    "    neutral['target_indicator'] = target_indicator\n",
    "    neutral['choice'] = which_choice\n",
    "\n",
    "    #reaction time\n",
    "    respT = np.array([ast.literal_eval(x)['1'] for x in neutral['responseTime'].values])\n",
    "    onsetT = np.array([ast.literal_eval(x)['1'] for x in neutral['stageOnsetTime'].values])\n",
    "    neutral['RT'] = respT - onsetT\n",
    "\n",
    "    # neutral\n",
    "    for block in range(3):\n",
    "        block_df = neutral[neutral['block'] == block]\n",
    "        for pp in ['pre','post']:\n",
    "            prop_targ = get_prop_targ(pp,block_df)\n",
    "            neutral_choice['sub'].append(s)\n",
    "            neutral_choice['prop'].append(prop_targ)\n",
    "            neutral_choice['pre_post'].append(pp)\n",
    "            neutral_choice['block'].append(block)\n",
    "neutral_choice = pd.DataFrame(neutral_choice)"
   ]
  },
  {
   "cell_type": "code",
   "execution_count": 204,
   "metadata": {
    "collapsed": false
   },
   "outputs": [
    {
     "data": {
      "text/html": [
       "<div>\n",
       "<table border=\"1\" class=\"dataframe\">\n",
       "  <thead>\n",
       "    <tr style=\"text-align: right;\">\n",
       "      <th></th>\n",
       "      <th>block</th>\n",
       "      <th>prop</th>\n",
       "    </tr>\n",
       "    <tr>\n",
       "      <th>sub</th>\n",
       "      <th></th>\n",
       "      <th></th>\n",
       "    </tr>\n",
       "  </thead>\n",
       "  <tbody>\n",
       "    <tr>\n",
       "      <th>A1Q7XYZUIKHUS4</th>\n",
       "      <td>1</td>\n",
       "      <td>0.416667</td>\n",
       "    </tr>\n",
       "    <tr>\n",
       "      <th>A1ZZ7YO3YASNIP</th>\n",
       "      <td>1</td>\n",
       "      <td>0.000000</td>\n",
       "    </tr>\n",
       "    <tr>\n",
       "      <th>A2BHHEWR9PRDX8</th>\n",
       "      <td>1</td>\n",
       "      <td>0.027778</td>\n",
       "    </tr>\n",
       "    <tr>\n",
       "      <th>A2COVA7FSAIH3D</th>\n",
       "      <td>1</td>\n",
       "      <td>0.083333</td>\n",
       "    </tr>\n",
       "    <tr>\n",
       "      <th>A2Q3KN46PUMMX2</th>\n",
       "      <td>1</td>\n",
       "      <td>-0.250000</td>\n",
       "    </tr>\n",
       "    <tr>\n",
       "      <th>A36470UBRH28GO</th>\n",
       "      <td>1</td>\n",
       "      <td>-0.250000</td>\n",
       "    </tr>\n",
       "    <tr>\n",
       "      <th>A3EJ44J2ZNRMDA</th>\n",
       "      <td>1</td>\n",
       "      <td>-0.083333</td>\n",
       "    </tr>\n",
       "    <tr>\n",
       "      <th>A3T7N805PVNEXN</th>\n",
       "      <td>1</td>\n",
       "      <td>-0.166667</td>\n",
       "    </tr>\n",
       "    <tr>\n",
       "      <th>ABMX8XUNPR3LP</th>\n",
       "      <td>1</td>\n",
       "      <td>-0.166667</td>\n",
       "    </tr>\n",
       "    <tr>\n",
       "      <th>AHDBHMH3AY1V2</th>\n",
       "      <td>1</td>\n",
       "      <td>-0.166667</td>\n",
       "    </tr>\n",
       "  </tbody>\n",
       "</table>\n",
       "</div>"
      ],
      "text/plain": [
       "                block      prop\n",
       "sub                            \n",
       "A1Q7XYZUIKHUS4      1  0.416667\n",
       "A1ZZ7YO3YASNIP      1  0.000000\n",
       "A2BHHEWR9PRDX8      1  0.027778\n",
       "A2COVA7FSAIH3D      1  0.083333\n",
       "A2Q3KN46PUMMX2      1 -0.250000\n",
       "A36470UBRH28GO      1 -0.250000\n",
       "A3EJ44J2ZNRMDA      1 -0.083333\n",
       "A3T7N805PVNEXN      1 -0.166667\n",
       "ABMX8XUNPR3LP       1 -0.166667\n",
       "AHDBHMH3AY1V2       1 -0.166667"
      ]
     },
     "execution_count": 204,
     "metadata": {},
     "output_type": "execute_result"
    }
   ],
   "source": [
    "prop_diff = neutral_choice[neutral_choice['pre_post'] == 'post']['prop'].values \\\n",
    "    - neutral_choice[neutral_choice['pre_post'] == 'pre']['prop'].values\n",
    "neutral_choice = neutral_choice.groupby(['sub','block']).mean()\n",
    "neutral_choice.reset_index(inplace=True)  \n",
    "neutral_choice['prop'] = prop_diff\n",
    "neutral_choice.groupby('sub').mean()\n"
   ]
  },
  {
   "cell_type": "code",
   "execution_count": 82,
   "metadata": {
    "collapsed": false,
    "scrolled": true
   },
   "outputs": [
    {
     "name": "stdout",
     "output_type": "stream",
     "text": [
      "19.427\n",
      "4.74\n",
      "18.595\n",
      "1.318\n",
      "1.531\n",
      "129.776\n",
      "26.342\n",
      "1.39\n",
      "51.963\n",
      "2.263\n"
     ]
    }
   ],
   "source": [
    "for s in subs:\n",
    "    sub_df = all_data[all_data['sub'] ==s]\n",
    "    neutral = sub_df[sub_df['name'] == 'neutral'].copy()\n",
    "    respT = np.array([ast.literal_eval(x)['1'] for x in neutral['responseTime'].values])\n",
    "    onsetT = np.array([ast.literal_eval(x)['1'] for x in neutral['stageOnsetTime'].values])\n",
    "    neutral['RT'] = respT - onsetT\n",
    "\n",
    "    print np.max(neutral['RT'])/1000.0"
   ]
  },
  {
   "cell_type": "code",
   "execution_count": null,
   "metadata": {
    "collapsed": true
   },
   "outputs": [],
   "source": []
  }
 ],
 "metadata": {
  "kernelspec": {
   "display_name": "Python 2",
   "language": "python",
   "name": "python2"
  },
  "language_info": {
   "codemirror_mode": {
    "name": "ipython",
    "version": 2
   },
   "file_extension": ".py",
   "mimetype": "text/x-python",
   "name": "python",
   "nbconvert_exporter": "python",
   "pygments_lexer": "ipython2",
   "version": "2.7.11"
  }
 },
 "nbformat": 4,
 "nbformat_minor": 0
}
